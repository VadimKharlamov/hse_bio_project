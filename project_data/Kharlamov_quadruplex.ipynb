{
  "nbformat": 4,
  "nbformat_minor": 0,
  "metadata": {
    "colab": {
      "provenance": []
    },
    "kernelspec": {
      "name": "python3",
      "display_name": "Python 3"
    },
    "language_info": {
      "name": "python"
    }
  },
  "cells": [
    {
      "cell_type": "markdown",
      "source": [
        "## Подгружаем файлы"
      ],
      "metadata": {
        "id": "O22dNX3kEqKi"
      }
    },
    {
      "cell_type": "code",
      "execution_count": 49,
      "metadata": {
        "colab": {
          "base_uri": "https://localhost:8080/"
        },
        "id": "zz9nxDuDDEXQ",
        "outputId": "8325728c-a872-4dcc-f352-59b3ff7dd235"
      },
      "outputs": [
        {
          "output_type": "stream",
          "name": "stdout",
          "text": [
            "URL transformed to HTTPS due to an HSTS policy\n",
            "--2025-06-14 22:05:27--  https://ftp.ncbi.nlm.nih.gov/genomes/all/GCA/036/169/595/GCA_036169595.1_ASM3616959v1/GCA_036169595.1_ASM3616959v1_genomic.fna.gz\n",
            "Resolving ftp.ncbi.nlm.nih.gov (ftp.ncbi.nlm.nih.gov)... 130.14.250.10, 130.14.250.12, 130.14.250.13, ...\n",
            "Connecting to ftp.ncbi.nlm.nih.gov (ftp.ncbi.nlm.nih.gov)|130.14.250.10|:443... connected.\n",
            "HTTP request sent, awaiting response... 200 OK\n",
            "Length: 9089934 (8.7M) [application/x-gzip]\n",
            "Saving to: ‘595/GCA_036169595.1_ASM3616959v1/GCA_036169595.1_ASM3616959v1_genomic.fna.gz’\n",
            "\n",
            "595/GCA_036169595.1 100%[===================>]   8.67M  13.5MB/s    in 0.6s    \n",
            "\n",
            "2025-06-14 22:05:28 (13.5 MB/s) - ‘595/GCA_036169595.1_ASM3616959v1/GCA_036169595.1_ASM3616959v1_genomic.fna.gz’ saved [9089934/9089934]\n",
            "\n",
            "FINISHED --2025-06-14 22:05:28--\n",
            "Total wall clock time: 1.0s\n",
            "Downloaded: 1 files, 8.7M in 0.6s (13.5 MB/s)\n"
          ]
        }
      ],
      "source": [
        "!wget -r -nH --cut-dirs=5 ftp.ncbi.nlm.nih.gov/genomes/all/GCA/036/169/595/GCA_036169595.1_ASM3616959v1/GCA_036169595.1_ASM3616959v1_genomic.fna.gz"
      ]
    },
    {
      "cell_type": "code",
      "source": [
        "!gzip -rd GCA_036169595.1_ASM3616959v1_genomic.fna.gz"
      ],
      "metadata": {
        "id": "TAFWwIp1Dzap"
      },
      "execution_count": 13,
      "outputs": []
    },
    {
      "cell_type": "code",
      "source": [
        "!wget -r -nH --cut-dirs=5 ftp.ncbi.nlm.nih.gov/genomes/all/GCA/036/169/595/GCA_036169595.1_ASM3616959v1/GCA_036169595.1_ASM3616959v1_genomic.gtf.gz"
      ],
      "metadata": {
        "colab": {
          "base_uri": "https://localhost:8080/"
        },
        "id": "voxfDh4mD4jf",
        "outputId": "b8884c62-ed15-4282-ccd1-c4b0fef9194f"
      },
      "execution_count": 3,
      "outputs": [
        {
          "output_type": "stream",
          "name": "stdout",
          "text": [
            "URL transformed to HTTPS due to an HSTS policy\n",
            "--2025-06-14 21:44:09--  https://ftp.ncbi.nlm.nih.gov/genomes/all/GCA/036/169/595/GCA_036169595.1_ASM3616959v1/GCA_036169595.1_ASM3616959v1_genomic.gtf.gz\n",
            "Resolving ftp.ncbi.nlm.nih.gov (ftp.ncbi.nlm.nih.gov)... 130.14.250.7, 130.14.250.10, 130.14.250.12, ...\n",
            "Connecting to ftp.ncbi.nlm.nih.gov (ftp.ncbi.nlm.nih.gov)|130.14.250.7|:443... connected.\n",
            "HTTP request sent, awaiting response... 200 OK\n",
            "Length: 1742757 (1.7M) [application/x-gzip]\n",
            "Saving to: ‘595/GCA_036169595.1_ASM3616959v1/GCA_036169595.1_ASM3616959v1_genomic.gtf.gz’\n",
            "\n",
            "595/GCA_036169595.1 100%[===================>]   1.66M  5.11MB/s    in 0.3s    \n",
            "\n",
            "2025-06-14 21:44:10 (5.11 MB/s) - ‘595/GCA_036169595.1_ASM3616959v1/GCA_036169595.1_ASM3616959v1_genomic.gtf.gz’ saved [1742757/1742757]\n",
            "\n",
            "FINISHED --2025-06-14 21:44:10--\n",
            "Total wall clock time: 0.6s\n",
            "Downloaded: 1 files, 1.7M in 0.3s (5.11 MB/s)\n"
          ]
        }
      ]
    },
    {
      "cell_type": "code",
      "source": [
        "!gzip -rd GCA_036169595.1_ASM3616959v1_genomic.gtf.gz"
      ],
      "metadata": {
        "id": "5pKFht3qD794"
      },
      "execution_count": 14,
      "outputs": []
    },
    {
      "cell_type": "code",
      "source": [
        "pip install pybedtools"
      ],
      "metadata": {
        "colab": {
          "base_uri": "https://localhost:8080/"
        },
        "id": "XsS4lpnqHhTf",
        "outputId": "e14f80f5-25ec-4ff8-f8eb-e316a9a98b42"
      },
      "execution_count": 5,
      "outputs": [
        {
          "output_type": "stream",
          "name": "stdout",
          "text": [
            "Collecting pybedtools\n",
            "  Downloading pybedtools-0.12.0.tar.gz (12.6 MB)\n",
            "\u001b[2K     \u001b[90m━━━━━━━━━━━━━━━━━━━━━━━━━━━━━━━━━━━━━━━━\u001b[0m \u001b[32m12.6/12.6 MB\u001b[0m \u001b[31m63.4 MB/s\u001b[0m eta \u001b[36m0:00:00\u001b[0m\n",
            "\u001b[?25h  Installing build dependencies ... \u001b[?25l\u001b[?25hdone\n",
            "  Getting requirements to build wheel ... \u001b[?25l\u001b[?25hdone\n",
            "  Preparing metadata (pyproject.toml) ... \u001b[?25l\u001b[?25hdone\n",
            "Requirement already satisfied: numpy in /usr/local/lib/python3.11/dist-packages (from pybedtools) (2.0.2)\n",
            "Collecting pysam (from pybedtools)\n",
            "  Downloading pysam-0.23.3-cp311-cp311-manylinux_2_28_x86_64.whl.metadata (1.7 kB)\n",
            "Requirement already satisfied: pandas in /usr/local/lib/python3.11/dist-packages (from pybedtools) (2.2.2)\n",
            "Requirement already satisfied: python-dateutil>=2.8.2 in /usr/local/lib/python3.11/dist-packages (from pandas->pybedtools) (2.9.0.post0)\n",
            "Requirement already satisfied: pytz>=2020.1 in /usr/local/lib/python3.11/dist-packages (from pandas->pybedtools) (2025.2)\n",
            "Requirement already satisfied: tzdata>=2022.7 in /usr/local/lib/python3.11/dist-packages (from pandas->pybedtools) (2025.2)\n",
            "Requirement already satisfied: six>=1.5 in /usr/local/lib/python3.11/dist-packages (from python-dateutil>=2.8.2->pandas->pybedtools) (1.17.0)\n",
            "Downloading pysam-0.23.3-cp311-cp311-manylinux_2_28_x86_64.whl (26.5 MB)\n",
            "\u001b[2K   \u001b[90m━━━━━━━━━━━━━━━━━━━━━━━━━━━━━━━━━━━━━━━━\u001b[0m \u001b[32m26.5/26.5 MB\u001b[0m \u001b[31m65.0 MB/s\u001b[0m eta \u001b[36m0:00:00\u001b[0m\n",
            "\u001b[?25hBuilding wheels for collected packages: pybedtools\n",
            "  Building wheel for pybedtools (pyproject.toml) ... \u001b[?25l\u001b[?25hdone\n",
            "  Created wheel for pybedtools: filename=pybedtools-0.12.0-cp311-cp311-linux_x86_64.whl size=14261439 sha256=294468fee0b643b5cb4d0e0c0d78911b811d745980776492b3afc50ea6f3114b\n",
            "  Stored in directory: /root/.cache/pip/wheels/95/62/57/e8c47c2a43884227b6644cf1d2dabf3162a0f40b9c1493c1f5\n",
            "Successfully built pybedtools\n",
            "Installing collected packages: pysam, pybedtools\n",
            "Successfully installed pybedtools-0.12.0 pysam-0.23.3\n"
          ]
        }
      ]
    },
    {
      "cell_type": "code",
      "source": [
        "import pybedtools\n",
        "import pandas as pd"
      ],
      "metadata": {
        "id": "ulIUDhunG8ML"
      },
      "execution_count": 6,
      "outputs": []
    },
    {
      "cell_type": "code",
      "source": [
        "!apt-get install bedtools"
      ],
      "metadata": {
        "colab": {
          "base_uri": "https://localhost:8080/"
        },
        "id": "GVxZO7ChWclD",
        "outputId": "73440402-aad9-4c68-efc1-7c8fcd516f56"
      },
      "execution_count": 7,
      "outputs": [
        {
          "output_type": "stream",
          "name": "stdout",
          "text": [
            "Reading package lists... Done\n",
            "Building dependency tree... Done\n",
            "Reading state information... Done\n",
            "The following NEW packages will be installed:\n",
            "  bedtools\n",
            "0 upgraded, 1 newly installed, 0 to remove and 35 not upgraded.\n",
            "Need to get 563 kB of archives.\n",
            "After this operation, 1,548 kB of additional disk space will be used.\n",
            "Get:1 http://archive.ubuntu.com/ubuntu jammy-updates/universe amd64 bedtools amd64 2.30.0+dfsg-2ubuntu0.1 [563 kB]\n",
            "Fetched 563 kB in 1s (578 kB/s)\n",
            "Selecting previously unselected package bedtools.\n",
            "(Reading database ... 126111 files and directories currently installed.)\n",
            "Preparing to unpack .../bedtools_2.30.0+dfsg-2ubuntu0.1_amd64.deb ...\n",
            "Unpacking bedtools (2.30.0+dfsg-2ubuntu0.1) ...\n",
            "Setting up bedtools (2.30.0+dfsg-2ubuntu0.1) ...\n"
          ]
        }
      ]
    },
    {
      "cell_type": "code",
      "source": [
        "pip install fuc"
      ],
      "metadata": {
        "colab": {
          "base_uri": "https://localhost:8080/"
        },
        "id": "yw9zdaoTpHzC",
        "outputId": "fc9b0a08-518b-43ac-93f0-400c456765fe"
      },
      "execution_count": 8,
      "outputs": [
        {
          "output_type": "stream",
          "name": "stdout",
          "text": [
            "Collecting fuc\n",
            "  Downloading fuc-0.38.0-py3-none-any.whl.metadata (16 kB)\n",
            "Collecting biopython (from fuc)\n",
            "  Downloading biopython-1.85-cp311-cp311-manylinux_2_17_x86_64.manylinux2014_x86_64.whl.metadata (13 kB)\n",
            "Requirement already satisfied: lxml in /usr/local/lib/python3.11/dist-packages (from fuc) (5.4.0)\n",
            "Requirement already satisfied: matplotlib in /usr/local/lib/python3.11/dist-packages (from fuc) (3.10.0)\n",
            "Requirement already satisfied: matplotlib-venn in /usr/local/lib/python3.11/dist-packages (from fuc) (1.1.2)\n",
            "Requirement already satisfied: numpy in /usr/local/lib/python3.11/dist-packages (from fuc) (2.0.2)\n",
            "Requirement already satisfied: pandas in /usr/local/lib/python3.11/dist-packages (from fuc) (2.2.2)\n",
            "Collecting pyranges (from fuc)\n",
            "  Downloading pyranges-0.1.4-py3-none-any.whl.metadata (3.7 kB)\n",
            "Requirement already satisfied: pysam in /usr/local/lib/python3.11/dist-packages (from fuc) (0.23.3)\n",
            "Requirement already satisfied: scipy in /usr/local/lib/python3.11/dist-packages (from fuc) (1.15.3)\n",
            "Requirement already satisfied: seaborn in /usr/local/lib/python3.11/dist-packages (from fuc) (0.13.2)\n",
            "Requirement already satisfied: statsmodels in /usr/local/lib/python3.11/dist-packages (from fuc) (0.14.4)\n",
            "Requirement already satisfied: contourpy>=1.0.1 in /usr/local/lib/python3.11/dist-packages (from matplotlib->fuc) (1.3.2)\n",
            "Requirement already satisfied: cycler>=0.10 in /usr/local/lib/python3.11/dist-packages (from matplotlib->fuc) (0.12.1)\n",
            "Requirement already satisfied: fonttools>=4.22.0 in /usr/local/lib/python3.11/dist-packages (from matplotlib->fuc) (4.58.1)\n",
            "Requirement already satisfied: kiwisolver>=1.3.1 in /usr/local/lib/python3.11/dist-packages (from matplotlib->fuc) (1.4.8)\n",
            "Requirement already satisfied: packaging>=20.0 in /usr/local/lib/python3.11/dist-packages (from matplotlib->fuc) (24.2)\n",
            "Requirement already satisfied: pillow>=8 in /usr/local/lib/python3.11/dist-packages (from matplotlib->fuc) (11.2.1)\n",
            "Requirement already satisfied: pyparsing>=2.3.1 in /usr/local/lib/python3.11/dist-packages (from matplotlib->fuc) (3.2.3)\n",
            "Requirement already satisfied: python-dateutil>=2.7 in /usr/local/lib/python3.11/dist-packages (from matplotlib->fuc) (2.9.0.post0)\n",
            "Requirement already satisfied: pytz>=2020.1 in /usr/local/lib/python3.11/dist-packages (from pandas->fuc) (2025.2)\n",
            "Requirement already satisfied: tzdata>=2022.7 in /usr/local/lib/python3.11/dist-packages (from pandas->fuc) (2025.2)\n",
            "Collecting ncls>=0.0.63 (from pyranges->fuc)\n",
            "  Downloading ncls-0.0.68-cp311-cp311-manylinux_2_17_x86_64.manylinux2014_x86_64.whl.metadata (4.6 kB)\n",
            "Requirement already satisfied: tabulate in /usr/local/lib/python3.11/dist-packages (from pyranges->fuc) (0.9.0)\n",
            "Collecting sorted_nearest>=0.0.33 (from pyranges->fuc)\n",
            "  Downloading sorted_nearest-0.0.39-cp311-cp311-manylinux_2_17_x86_64.manylinux2014_x86_64.whl.metadata (964 bytes)\n",
            "Requirement already satisfied: natsort in /usr/local/lib/python3.11/dist-packages (from pyranges->fuc) (8.4.0)\n",
            "Requirement already satisfied: patsy>=0.5.6 in /usr/local/lib/python3.11/dist-packages (from statsmodels->fuc) (1.0.1)\n",
            "Requirement already satisfied: six>=1.5 in /usr/local/lib/python3.11/dist-packages (from python-dateutil>=2.7->matplotlib->fuc) (1.17.0)\n",
            "Downloading fuc-0.38.0-py3-none-any.whl (154 kB)\n",
            "\u001b[2K   \u001b[90m━━━━━━━━━━━━━━━━━━━━━━━━━━━━━━━━━━━━━━━━\u001b[0m \u001b[32m154.7/154.7 kB\u001b[0m \u001b[31m4.4 MB/s\u001b[0m eta \u001b[36m0:00:00\u001b[0m\n",
            "\u001b[?25hDownloading biopython-1.85-cp311-cp311-manylinux_2_17_x86_64.manylinux2014_x86_64.whl (3.3 MB)\n",
            "\u001b[2K   \u001b[90m━━━━━━━━━━━━━━━━━━━━━━━━━━━━━━━━━━━━━━━━\u001b[0m \u001b[32m3.3/3.3 MB\u001b[0m \u001b[31m35.4 MB/s\u001b[0m eta \u001b[36m0:00:00\u001b[0m\n",
            "\u001b[?25hDownloading pyranges-0.1.4-py3-none-any.whl (1.5 MB)\n",
            "\u001b[2K   \u001b[90m━━━━━━━━━━━━━━━━━━━━━━━━━━━━━━━━━━━━━━━━\u001b[0m \u001b[32m1.5/1.5 MB\u001b[0m \u001b[31m47.3 MB/s\u001b[0m eta \u001b[36m0:00:00\u001b[0m\n",
            "\u001b[?25hDownloading ncls-0.0.68-cp311-cp311-manylinux_2_17_x86_64.manylinux2014_x86_64.whl (2.5 MB)\n",
            "\u001b[2K   \u001b[90m━━━━━━━━━━━━━━━━━━━━━━━━━━━━━━━━━━━━━━━━\u001b[0m \u001b[32m2.5/2.5 MB\u001b[0m \u001b[31m63.2 MB/s\u001b[0m eta \u001b[36m0:00:00\u001b[0m\n",
            "\u001b[?25hDownloading sorted_nearest-0.0.39-cp311-cp311-manylinux_2_17_x86_64.manylinux2014_x86_64.whl (6.2 MB)\n",
            "\u001b[2K   \u001b[90m━━━━━━━━━━━━━━━━━━━━━━━━━━━━━━━━━━━━━━━━\u001b[0m \u001b[32m6.2/6.2 MB\u001b[0m \u001b[31m60.9 MB/s\u001b[0m eta \u001b[36m0:00:00\u001b[0m\n",
            "\u001b[?25hInstalling collected packages: sorted_nearest, ncls, biopython, pyranges, fuc\n",
            "Successfully installed biopython-1.85 fuc-0.38.0 ncls-0.0.68 pyranges-0.1.4 sorted_nearest-0.0.39\n"
          ]
        }
      ]
    },
    {
      "cell_type": "code",
      "source": [
        "!pip install biopython\n",
        "import re\n",
        "from Bio import SeqIO"
      ],
      "metadata": {
        "colab": {
          "base_uri": "https://localhost:8080/"
        },
        "id": "aUe3yBjEI4R-",
        "outputId": "6b239e82-a506-4d13-be30-bc9f25b6f064"
      },
      "execution_count": 9,
      "outputs": [
        {
          "output_type": "stream",
          "name": "stdout",
          "text": [
            "Requirement already satisfied: biopython in /usr/local/lib/python3.11/dist-packages (1.85)\n",
            "Requirement already satisfied: numpy in /usr/local/lib/python3.11/dist-packages (from biopython) (2.0.2)\n"
          ]
        }
      ]
    },
    {
      "cell_type": "code",
      "source": [
        "from fuc import pybed"
      ],
      "metadata": {
        "id": "rJTI_SA4MWsu"
      },
      "execution_count": 10,
      "outputs": []
    },
    {
      "cell_type": "markdown",
      "source": [
        "## Ищем квадруплексы по паттерну для + и - стренда"
      ],
      "metadata": {
        "id": "I8feftbTFGCw"
      }
    },
    {
      "cell_type": "code",
      "source": [
        "ffile ='GCA_036169595.1_ASM3616959v1_genomic.fna'\n",
        "fasta_sequence = SeqIO.parse(ffile,'fasta')\n",
        "PQS = []\n",
        "PQS_minus = []\n",
        "pattern=\"(?:G{3,5}[ATGC]{1,7}){3,}G{3,5}\"\n",
        "pattern_minus=\"(?:C{3,5}[ATGC]{1,7}){3,}C{3,5}\"\n",
        "for record in SeqIO.parse(ffile, \"fasta\"):\n",
        "    name, sequence = record.id, str(record.seq)\n",
        "    PQS += [[name, m.start(),m.end(),m.group(0), name, '+'] for m in re.finditer(pattern,sequence,re.IGNORECASE)]\n",
        "    PQS_minus += [[name, m.start(),m.end(),m.group(0), name, '-'] for m in re.finditer(pattern_minus,sequence,re.IGNORECASE)]\n",
        "print(len(PQS))\n",
        "print(len(PQS_minus))"
      ],
      "metadata": {
        "colab": {
          "base_uri": "https://localhost:8080/"
        },
        "id": "Ec6Fhb4AILDd",
        "outputId": "59092707-9440-4a7f-95ea-02fec8ec4bbd"
      },
      "execution_count": 15,
      "outputs": [
        {
          "output_type": "stream",
          "name": "stdout",
          "text": [
            "98\n",
            "118\n"
          ]
        }
      ]
    },
    {
      "cell_type": "code",
      "source": [
        "quadr = pd.DataFrame(PQS+PQS_minus, columns=['Chromosome', 'Start', 'End', 'Sequence', 'Name', 'Strand'])"
      ],
      "metadata": {
        "id": "F6kuCIvdL17S"
      },
      "execution_count": 18,
      "outputs": []
    },
    {
      "cell_type": "code",
      "source": [
        "quadr"
      ],
      "metadata": {
        "colab": {
          "base_uri": "https://localhost:8080/",
          "height": 423
        },
        "id": "thmXyGhOaiUf",
        "outputId": "efa56c1e-4dd7-42d4-c55a-3cadb4fcbff4"
      },
      "execution_count": 19,
      "outputs": [
        {
          "output_type": "execute_result",
          "data": {
            "text/plain": [
              "            Chromosome    Start      End  \\\n",
              "0           CM069765.1  2558875  2558896   \n",
              "1           CM069765.1  2968637  2968667   \n",
              "2           CM069765.1  3700664  3700703   \n",
              "3           CM069765.1  4297781  4297806   \n",
              "4           CM069765.1  4523341  4523356   \n",
              "..                 ...      ...      ...   \n",
              "211  JAVFKY010000011.1    32402    32480   \n",
              "212  JAVFKY010000011.1    33112    33170   \n",
              "213  JAVFKY010000011.1    34088    34136   \n",
              "214  JAVFKY010000011.1    34968    35004   \n",
              "215  JAVFKY010000012.1    16178    16193   \n",
              "\n",
              "                                              Sequence               Name  \\\n",
              "0                                ggggggggggggggggggggg         CM069765.1   \n",
              "1                       GGGAATGCGGGAGTGGATGGGGTGATCGGG         CM069765.1   \n",
              "2              GGGAATGATGGGAAACCTGGGATGGTTGGGAATGATGGG         CM069765.1   \n",
              "3                            GGGGGGGGGGAAGGGGGGAAGGggg         CM069765.1   \n",
              "4                                      GGGAGGGCGGGTGgg         CM069765.1   \n",
              "..                                                 ...                ...   \n",
              "211  CCCCTCTCTCTCCCCTCTCTCTCCCCTCTCTCTCCCCTCTCTCTCC...  JAVFKY010000011.1   \n",
              "212  CCCCTCTCTCTCCCCTCTCTCTCCCCTCTCTCTCCCCTCTCTCCCC...  JAVFKY010000011.1   \n",
              "213   CCCCTCTCTCTCCCCTCTCTCCCCCACTCTCCCCACCCTCTCTCCCCC  JAVFKY010000011.1   \n",
              "214               CCCCTCTCTCTCCCCTGTCTCTCCCTCTCTcccccc  JAVFKY010000011.1   \n",
              "215                                    ccCACCCGCCCTCCC  JAVFKY010000012.1   \n",
              "\n",
              "    Strand  \n",
              "0        +  \n",
              "1        +  \n",
              "2        +  \n",
              "3        +  \n",
              "4        +  \n",
              "..     ...  \n",
              "211      -  \n",
              "212      -  \n",
              "213      -  \n",
              "214      -  \n",
              "215      -  \n",
              "\n",
              "[216 rows x 6 columns]"
            ],
            "text/html": [
              "\n",
              "  <div id=\"df-cebdd557-b9b7-4c3c-a3c3-276ef9afffcc\" class=\"colab-df-container\">\n",
              "    <div>\n",
              "<style scoped>\n",
              "    .dataframe tbody tr th:only-of-type {\n",
              "        vertical-align: middle;\n",
              "    }\n",
              "\n",
              "    .dataframe tbody tr th {\n",
              "        vertical-align: top;\n",
              "    }\n",
              "\n",
              "    .dataframe thead th {\n",
              "        text-align: right;\n",
              "    }\n",
              "</style>\n",
              "<table border=\"1\" class=\"dataframe\">\n",
              "  <thead>\n",
              "    <tr style=\"text-align: right;\">\n",
              "      <th></th>\n",
              "      <th>Chromosome</th>\n",
              "      <th>Start</th>\n",
              "      <th>End</th>\n",
              "      <th>Sequence</th>\n",
              "      <th>Name</th>\n",
              "      <th>Strand</th>\n",
              "    </tr>\n",
              "  </thead>\n",
              "  <tbody>\n",
              "    <tr>\n",
              "      <th>0</th>\n",
              "      <td>CM069765.1</td>\n",
              "      <td>2558875</td>\n",
              "      <td>2558896</td>\n",
              "      <td>ggggggggggggggggggggg</td>\n",
              "      <td>CM069765.1</td>\n",
              "      <td>+</td>\n",
              "    </tr>\n",
              "    <tr>\n",
              "      <th>1</th>\n",
              "      <td>CM069765.1</td>\n",
              "      <td>2968637</td>\n",
              "      <td>2968667</td>\n",
              "      <td>GGGAATGCGGGAGTGGATGGGGTGATCGGG</td>\n",
              "      <td>CM069765.1</td>\n",
              "      <td>+</td>\n",
              "    </tr>\n",
              "    <tr>\n",
              "      <th>2</th>\n",
              "      <td>CM069765.1</td>\n",
              "      <td>3700664</td>\n",
              "      <td>3700703</td>\n",
              "      <td>GGGAATGATGGGAAACCTGGGATGGTTGGGAATGATGGG</td>\n",
              "      <td>CM069765.1</td>\n",
              "      <td>+</td>\n",
              "    </tr>\n",
              "    <tr>\n",
              "      <th>3</th>\n",
              "      <td>CM069765.1</td>\n",
              "      <td>4297781</td>\n",
              "      <td>4297806</td>\n",
              "      <td>GGGGGGGGGGAAGGGGGGAAGGggg</td>\n",
              "      <td>CM069765.1</td>\n",
              "      <td>+</td>\n",
              "    </tr>\n",
              "    <tr>\n",
              "      <th>4</th>\n",
              "      <td>CM069765.1</td>\n",
              "      <td>4523341</td>\n",
              "      <td>4523356</td>\n",
              "      <td>GGGAGGGCGGGTGgg</td>\n",
              "      <td>CM069765.1</td>\n",
              "      <td>+</td>\n",
              "    </tr>\n",
              "    <tr>\n",
              "      <th>...</th>\n",
              "      <td>...</td>\n",
              "      <td>...</td>\n",
              "      <td>...</td>\n",
              "      <td>...</td>\n",
              "      <td>...</td>\n",
              "      <td>...</td>\n",
              "    </tr>\n",
              "    <tr>\n",
              "      <th>211</th>\n",
              "      <td>JAVFKY010000011.1</td>\n",
              "      <td>32402</td>\n",
              "      <td>32480</td>\n",
              "      <td>CCCCTCTCTCTCCCCTCTCTCTCCCCTCTCTCTCCCCTCTCTCTCC...</td>\n",
              "      <td>JAVFKY010000011.1</td>\n",
              "      <td>-</td>\n",
              "    </tr>\n",
              "    <tr>\n",
              "      <th>212</th>\n",
              "      <td>JAVFKY010000011.1</td>\n",
              "      <td>33112</td>\n",
              "      <td>33170</td>\n",
              "      <td>CCCCTCTCTCTCCCCTCTCTCTCCCCTCTCTCTCCCCTCTCTCCCC...</td>\n",
              "      <td>JAVFKY010000011.1</td>\n",
              "      <td>-</td>\n",
              "    </tr>\n",
              "    <tr>\n",
              "      <th>213</th>\n",
              "      <td>JAVFKY010000011.1</td>\n",
              "      <td>34088</td>\n",
              "      <td>34136</td>\n",
              "      <td>CCCCTCTCTCTCCCCTCTCTCCCCCACTCTCCCCACCCTCTCTCCCCC</td>\n",
              "      <td>JAVFKY010000011.1</td>\n",
              "      <td>-</td>\n",
              "    </tr>\n",
              "    <tr>\n",
              "      <th>214</th>\n",
              "      <td>JAVFKY010000011.1</td>\n",
              "      <td>34968</td>\n",
              "      <td>35004</td>\n",
              "      <td>CCCCTCTCTCTCCCCTGTCTCTCCCTCTCTcccccc</td>\n",
              "      <td>JAVFKY010000011.1</td>\n",
              "      <td>-</td>\n",
              "    </tr>\n",
              "    <tr>\n",
              "      <th>215</th>\n",
              "      <td>JAVFKY010000012.1</td>\n",
              "      <td>16178</td>\n",
              "      <td>16193</td>\n",
              "      <td>ccCACCCGCCCTCCC</td>\n",
              "      <td>JAVFKY010000012.1</td>\n",
              "      <td>-</td>\n",
              "    </tr>\n",
              "  </tbody>\n",
              "</table>\n",
              "<p>216 rows × 6 columns</p>\n",
              "</div>\n",
              "    <div class=\"colab-df-buttons\">\n",
              "\n",
              "  <div class=\"colab-df-container\">\n",
              "    <button class=\"colab-df-convert\" onclick=\"convertToInteractive('df-cebdd557-b9b7-4c3c-a3c3-276ef9afffcc')\"\n",
              "            title=\"Convert this dataframe to an interactive table.\"\n",
              "            style=\"display:none;\">\n",
              "\n",
              "  <svg xmlns=\"http://www.w3.org/2000/svg\" height=\"24px\" viewBox=\"0 -960 960 960\">\n",
              "    <path d=\"M120-120v-720h720v720H120Zm60-500h600v-160H180v160Zm220 220h160v-160H400v160Zm0 220h160v-160H400v160ZM180-400h160v-160H180v160Zm440 0h160v-160H620v160ZM180-180h160v-160H180v160Zm440 0h160v-160H620v160Z\"/>\n",
              "  </svg>\n",
              "    </button>\n",
              "\n",
              "  <style>\n",
              "    .colab-df-container {\n",
              "      display:flex;\n",
              "      gap: 12px;\n",
              "    }\n",
              "\n",
              "    .colab-df-convert {\n",
              "      background-color: #E8F0FE;\n",
              "      border: none;\n",
              "      border-radius: 50%;\n",
              "      cursor: pointer;\n",
              "      display: none;\n",
              "      fill: #1967D2;\n",
              "      height: 32px;\n",
              "      padding: 0 0 0 0;\n",
              "      width: 32px;\n",
              "    }\n",
              "\n",
              "    .colab-df-convert:hover {\n",
              "      background-color: #E2EBFA;\n",
              "      box-shadow: 0px 1px 2px rgba(60, 64, 67, 0.3), 0px 1px 3px 1px rgba(60, 64, 67, 0.15);\n",
              "      fill: #174EA6;\n",
              "    }\n",
              "\n",
              "    .colab-df-buttons div {\n",
              "      margin-bottom: 4px;\n",
              "    }\n",
              "\n",
              "    [theme=dark] .colab-df-convert {\n",
              "      background-color: #3B4455;\n",
              "      fill: #D2E3FC;\n",
              "    }\n",
              "\n",
              "    [theme=dark] .colab-df-convert:hover {\n",
              "      background-color: #434B5C;\n",
              "      box-shadow: 0px 1px 3px 1px rgba(0, 0, 0, 0.15);\n",
              "      filter: drop-shadow(0px 1px 2px rgba(0, 0, 0, 0.3));\n",
              "      fill: #FFFFFF;\n",
              "    }\n",
              "  </style>\n",
              "\n",
              "    <script>\n",
              "      const buttonEl =\n",
              "        document.querySelector('#df-cebdd557-b9b7-4c3c-a3c3-276ef9afffcc button.colab-df-convert');\n",
              "      buttonEl.style.display =\n",
              "        google.colab.kernel.accessAllowed ? 'block' : 'none';\n",
              "\n",
              "      async function convertToInteractive(key) {\n",
              "        const element = document.querySelector('#df-cebdd557-b9b7-4c3c-a3c3-276ef9afffcc');\n",
              "        const dataTable =\n",
              "          await google.colab.kernel.invokeFunction('convertToInteractive',\n",
              "                                                    [key], {});\n",
              "        if (!dataTable) return;\n",
              "\n",
              "        const docLinkHtml = 'Like what you see? Visit the ' +\n",
              "          '<a target=\"_blank\" href=https://colab.research.google.com/notebooks/data_table.ipynb>data table notebook</a>'\n",
              "          + ' to learn more about interactive tables.';\n",
              "        element.innerHTML = '';\n",
              "        dataTable['output_type'] = 'display_data';\n",
              "        await google.colab.output.renderOutput(dataTable, element);\n",
              "        const docLink = document.createElement('div');\n",
              "        docLink.innerHTML = docLinkHtml;\n",
              "        element.appendChild(docLink);\n",
              "      }\n",
              "    </script>\n",
              "  </div>\n",
              "\n",
              "\n",
              "    <div id=\"df-97ff9ff6-fcfa-4e28-a070-3e578ef5d957\">\n",
              "      <button class=\"colab-df-quickchart\" onclick=\"quickchart('df-97ff9ff6-fcfa-4e28-a070-3e578ef5d957')\"\n",
              "                title=\"Suggest charts\"\n",
              "                style=\"display:none;\">\n",
              "\n",
              "<svg xmlns=\"http://www.w3.org/2000/svg\" height=\"24px\"viewBox=\"0 0 24 24\"\n",
              "     width=\"24px\">\n",
              "    <g>\n",
              "        <path d=\"M19 3H5c-1.1 0-2 .9-2 2v14c0 1.1.9 2 2 2h14c1.1 0 2-.9 2-2V5c0-1.1-.9-2-2-2zM9 17H7v-7h2v7zm4 0h-2V7h2v10zm4 0h-2v-4h2v4z\"/>\n",
              "    </g>\n",
              "</svg>\n",
              "      </button>\n",
              "\n",
              "<style>\n",
              "  .colab-df-quickchart {\n",
              "      --bg-color: #E8F0FE;\n",
              "      --fill-color: #1967D2;\n",
              "      --hover-bg-color: #E2EBFA;\n",
              "      --hover-fill-color: #174EA6;\n",
              "      --disabled-fill-color: #AAA;\n",
              "      --disabled-bg-color: #DDD;\n",
              "  }\n",
              "\n",
              "  [theme=dark] .colab-df-quickchart {\n",
              "      --bg-color: #3B4455;\n",
              "      --fill-color: #D2E3FC;\n",
              "      --hover-bg-color: #434B5C;\n",
              "      --hover-fill-color: #FFFFFF;\n",
              "      --disabled-bg-color: #3B4455;\n",
              "      --disabled-fill-color: #666;\n",
              "  }\n",
              "\n",
              "  .colab-df-quickchart {\n",
              "    background-color: var(--bg-color);\n",
              "    border: none;\n",
              "    border-radius: 50%;\n",
              "    cursor: pointer;\n",
              "    display: none;\n",
              "    fill: var(--fill-color);\n",
              "    height: 32px;\n",
              "    padding: 0;\n",
              "    width: 32px;\n",
              "  }\n",
              "\n",
              "  .colab-df-quickchart:hover {\n",
              "    background-color: var(--hover-bg-color);\n",
              "    box-shadow: 0 1px 2px rgba(60, 64, 67, 0.3), 0 1px 3px 1px rgba(60, 64, 67, 0.15);\n",
              "    fill: var(--button-hover-fill-color);\n",
              "  }\n",
              "\n",
              "  .colab-df-quickchart-complete:disabled,\n",
              "  .colab-df-quickchart-complete:disabled:hover {\n",
              "    background-color: var(--disabled-bg-color);\n",
              "    fill: var(--disabled-fill-color);\n",
              "    box-shadow: none;\n",
              "  }\n",
              "\n",
              "  .colab-df-spinner {\n",
              "    border: 2px solid var(--fill-color);\n",
              "    border-color: transparent;\n",
              "    border-bottom-color: var(--fill-color);\n",
              "    animation:\n",
              "      spin 1s steps(1) infinite;\n",
              "  }\n",
              "\n",
              "  @keyframes spin {\n",
              "    0% {\n",
              "      border-color: transparent;\n",
              "      border-bottom-color: var(--fill-color);\n",
              "      border-left-color: var(--fill-color);\n",
              "    }\n",
              "    20% {\n",
              "      border-color: transparent;\n",
              "      border-left-color: var(--fill-color);\n",
              "      border-top-color: var(--fill-color);\n",
              "    }\n",
              "    30% {\n",
              "      border-color: transparent;\n",
              "      border-left-color: var(--fill-color);\n",
              "      border-top-color: var(--fill-color);\n",
              "      border-right-color: var(--fill-color);\n",
              "    }\n",
              "    40% {\n",
              "      border-color: transparent;\n",
              "      border-right-color: var(--fill-color);\n",
              "      border-top-color: var(--fill-color);\n",
              "    }\n",
              "    60% {\n",
              "      border-color: transparent;\n",
              "      border-right-color: var(--fill-color);\n",
              "    }\n",
              "    80% {\n",
              "      border-color: transparent;\n",
              "      border-right-color: var(--fill-color);\n",
              "      border-bottom-color: var(--fill-color);\n",
              "    }\n",
              "    90% {\n",
              "      border-color: transparent;\n",
              "      border-bottom-color: var(--fill-color);\n",
              "    }\n",
              "  }\n",
              "</style>\n",
              "\n",
              "      <script>\n",
              "        async function quickchart(key) {\n",
              "          const quickchartButtonEl =\n",
              "            document.querySelector('#' + key + ' button');\n",
              "          quickchartButtonEl.disabled = true;  // To prevent multiple clicks.\n",
              "          quickchartButtonEl.classList.add('colab-df-spinner');\n",
              "          try {\n",
              "            const charts = await google.colab.kernel.invokeFunction(\n",
              "                'suggestCharts', [key], {});\n",
              "          } catch (error) {\n",
              "            console.error('Error during call to suggestCharts:', error);\n",
              "          }\n",
              "          quickchartButtonEl.classList.remove('colab-df-spinner');\n",
              "          quickchartButtonEl.classList.add('colab-df-quickchart-complete');\n",
              "        }\n",
              "        (() => {\n",
              "          let quickchartButtonEl =\n",
              "            document.querySelector('#df-97ff9ff6-fcfa-4e28-a070-3e578ef5d957 button');\n",
              "          quickchartButtonEl.style.display =\n",
              "            google.colab.kernel.accessAllowed ? 'block' : 'none';\n",
              "        })();\n",
              "      </script>\n",
              "    </div>\n",
              "\n",
              "  <div id=\"id_dc8a8b1a-704d-468d-ad76-e345b83d3c7f\">\n",
              "    <style>\n",
              "      .colab-df-generate {\n",
              "        background-color: #E8F0FE;\n",
              "        border: none;\n",
              "        border-radius: 50%;\n",
              "        cursor: pointer;\n",
              "        display: none;\n",
              "        fill: #1967D2;\n",
              "        height: 32px;\n",
              "        padding: 0 0 0 0;\n",
              "        width: 32px;\n",
              "      }\n",
              "\n",
              "      .colab-df-generate:hover {\n",
              "        background-color: #E2EBFA;\n",
              "        box-shadow: 0px 1px 2px rgba(60, 64, 67, 0.3), 0px 1px 3px 1px rgba(60, 64, 67, 0.15);\n",
              "        fill: #174EA6;\n",
              "      }\n",
              "\n",
              "      [theme=dark] .colab-df-generate {\n",
              "        background-color: #3B4455;\n",
              "        fill: #D2E3FC;\n",
              "      }\n",
              "\n",
              "      [theme=dark] .colab-df-generate:hover {\n",
              "        background-color: #434B5C;\n",
              "        box-shadow: 0px 1px 3px 1px rgba(0, 0, 0, 0.15);\n",
              "        filter: drop-shadow(0px 1px 2px rgba(0, 0, 0, 0.3));\n",
              "        fill: #FFFFFF;\n",
              "      }\n",
              "    </style>\n",
              "    <button class=\"colab-df-generate\" onclick=\"generateWithVariable('quadr')\"\n",
              "            title=\"Generate code using this dataframe.\"\n",
              "            style=\"display:none;\">\n",
              "\n",
              "  <svg xmlns=\"http://www.w3.org/2000/svg\" height=\"24px\"viewBox=\"0 0 24 24\"\n",
              "       width=\"24px\">\n",
              "    <path d=\"M7,19H8.4L18.45,9,17,7.55,7,17.6ZM5,21V16.75L18.45,3.32a2,2,0,0,1,2.83,0l1.4,1.43a1.91,1.91,0,0,1,.58,1.4,1.91,1.91,0,0,1-.58,1.4L9.25,21ZM18.45,9,17,7.55Zm-12,3A5.31,5.31,0,0,0,4.9,8.1,5.31,5.31,0,0,0,1,6.5,5.31,5.31,0,0,0,4.9,4.9,5.31,5.31,0,0,0,6.5,1,5.31,5.31,0,0,0,8.1,4.9,5.31,5.31,0,0,0,12,6.5,5.46,5.46,0,0,0,6.5,12Z\"/>\n",
              "  </svg>\n",
              "    </button>\n",
              "    <script>\n",
              "      (() => {\n",
              "      const buttonEl =\n",
              "        document.querySelector('#id_dc8a8b1a-704d-468d-ad76-e345b83d3c7f button.colab-df-generate');\n",
              "      buttonEl.style.display =\n",
              "        google.colab.kernel.accessAllowed ? 'block' : 'none';\n",
              "\n",
              "      buttonEl.onclick = () => {\n",
              "        google.colab.notebook.generateWithVariable('quadr');\n",
              "      }\n",
              "      })();\n",
              "    </script>\n",
              "  </div>\n",
              "\n",
              "    </div>\n",
              "  </div>\n"
            ],
            "application/vnd.google.colaboratory.intrinsic+json": {
              "type": "dataframe",
              "variable_name": "quadr",
              "summary": "{\n  \"name\": \"quadr\",\n  \"rows\": 216,\n  \"fields\": [\n    {\n      \"column\": \"Chromosome\",\n      \"properties\": {\n        \"dtype\": \"category\",\n        \"num_unique_values\": 11,\n        \"samples\": [\n          \"CM069770.1\",\n          \"CM069765.1\",\n          \"JAVFKY010000012.1\"\n        ],\n        \"semantic_type\": \"\",\n        \"description\": \"\"\n      }\n    },\n    {\n      \"column\": \"Start\",\n      \"properties\": {\n        \"dtype\": \"number\",\n        \"std\": 2288063,\n        \"min\": 2,\n        \"max\": 9245772,\n        \"num_unique_values\": 216,\n        \"samples\": [\n          2144220,\n          34088,\n          4902376\n        ],\n        \"semantic_type\": \"\",\n        \"description\": \"\"\n      }\n    },\n    {\n      \"column\": \"End\",\n      \"properties\": {\n        \"dtype\": \"number\",\n        \"std\": 2288059,\n        \"min\": 54,\n        \"max\": 9245792,\n        \"num_unique_values\": 216,\n        \"samples\": [\n          2144242,\n          34136,\n          4902392\n        ],\n        \"semantic_type\": \"\",\n        \"description\": \"\"\n      }\n    },\n    {\n      \"column\": \"Sequence\",\n      \"properties\": {\n        \"dtype\": \"string\",\n        \"num_unique_values\": 120,\n        \"samples\": [\n          \"GGGAGGTATGGGTGGTATGGGTGGTATGGGTGGTATGGGTGGTATGGG\",\n          \"gggtttcTTGGGTTTCTTGGGTTTTGgg\",\n          \"GGGAGGGCGGGTGgg\"\n        ],\n        \"semantic_type\": \"\",\n        \"description\": \"\"\n      }\n    },\n    {\n      \"column\": \"Name\",\n      \"properties\": {\n        \"dtype\": \"category\",\n        \"num_unique_values\": 11,\n        \"samples\": [\n          \"CM069770.1\",\n          \"CM069765.1\",\n          \"JAVFKY010000012.1\"\n        ],\n        \"semantic_type\": \"\",\n        \"description\": \"\"\n      }\n    },\n    {\n      \"column\": \"Strand\",\n      \"properties\": {\n        \"dtype\": \"category\",\n        \"num_unique_values\": 2,\n        \"samples\": [\n          \"-\",\n          \"+\"\n        ],\n        \"semantic_type\": \"\",\n        \"description\": \"\"\n      }\n    }\n  ]\n}"
            }
          },
          "metadata": {},
          "execution_count": 19
        }
      ]
    },
    {
      "cell_type": "code",
      "source": [
        "bf = pybed.BedFrame.from_frame(meta=[], data=quadr)\n",
        "bf.to_file('quadr.bed')"
      ],
      "metadata": {
        "id": "HHs2NKlipG5c"
      },
      "execution_count": 20,
      "outputs": []
    },
    {
      "cell_type": "markdown",
      "source": [
        "## Переведем аннотацию и получим файлы промоторов/экзонов/межгенников/интронов и downstream"
      ],
      "metadata": {
        "id": "Qg_hkGNNFj1d"
      }
    },
    {
      "cell_type": "code",
      "source": [
        "def calculate_scaffold_lengths(fasta_file, output_file):\n",
        "    with open(output_file, 'w') as out:\n",
        "        for record in SeqIO.parse(fasta_file, \"fasta\"):\n",
        "            scaffold_name = record.id\n",
        "            scaffold_length = len(record.seq)\n",
        "            out.write(f\"{scaffold_name}\\t{scaffold_length}\\n\")\n",
        "calculate_scaffold_lengths('GCA_036169595.1_ASM3616959v1_genomic.fna', 'scaffolds.sizes')"
      ],
      "metadata": {
        "id": "2Rxy6zfZZkYH"
      },
      "execution_count": 22,
      "outputs": []
    },
    {
      "cell_type": "code",
      "source": [
        "!awk '{if($1 !~ /^#/ ) print $1\"\\t\"$4-1\"\\t\"$5\"\\t\"$3\"\\t\"$10\"\\t\"$7}' GCA_036169595.1_ASM3616959v1_genomic.gtf > annotation.bed"
      ],
      "metadata": {
        "id": "CnoXFPcyuQOg"
      },
      "execution_count": 23,
      "outputs": []
    },
    {
      "cell_type": "code",
      "source": [
        "!head annotation.bed"
      ],
      "metadata": {
        "colab": {
          "base_uri": "https://localhost:8080/"
        },
        "id": "HfTTV835tif5",
        "outputId": "760d3f35-bf48-42ee-a710-5804741186c0"
      },
      "execution_count": 24,
      "outputs": [
        {
          "output_type": "stream",
          "name": "stdout",
          "text": [
            "CM069765.1\t3773\t3847\tgene\t\"RB653_010779\";\t+\n",
            "CM069765.1\t3773\t3847\ttranscript\t\"RB653_010779\";\t+\n",
            "CM069765.1\t3773\t3847\texon\t\"RB653_010779\";\t+\n",
            "CM069765.1\t5009\t8310\tgene\t\"RB653_003324\";\t+\n",
            "CM069765.1\t5009\t8310\ttranscript\t\"RB653_003324\";\t+\n",
            "CM069765.1\t5009\t5093\texon\t\"RB653_003324\";\t+\n",
            "CM069765.1\t5191\t5424\texon\t\"RB653_003324\";\t+\n",
            "CM069765.1\t5512\t5796\texon\t\"RB653_003324\";\t+\n",
            "CM069765.1\t5871\t6633\texon\t\"RB653_003324\";\t+\n",
            "CM069765.1\t6694\t8310\texon\t\"RB653_003324\";\t+\n"
          ]
        }
      ]
    },
    {
      "cell_type": "markdown",
      "source": [
        "Получим экзоны"
      ],
      "metadata": {
        "id": "euQxlwJOF_at"
      }
    },
    {
      "cell_type": "code",
      "source": [
        "!awk '$4 == \"exon\"' annotation.bed > exons.bed"
      ],
      "metadata": {
        "id": "JyFvpQLJonIS"
      },
      "execution_count": 25,
      "outputs": []
    },
    {
      "cell_type": "code",
      "source": [
        "!head exons.bed"
      ],
      "metadata": {
        "colab": {
          "base_uri": "https://localhost:8080/"
        },
        "id": "wqtZf7nBueJy",
        "outputId": "31285704-a59d-4ac6-c082-1ef17428f365"
      },
      "execution_count": 26,
      "outputs": [
        {
          "output_type": "stream",
          "name": "stdout",
          "text": [
            "CM069765.1\t3773\t3847\texon\t\"RB653_010779\";\t+\n",
            "CM069765.1\t5009\t5093\texon\t\"RB653_003324\";\t+\n",
            "CM069765.1\t5191\t5424\texon\t\"RB653_003324\";\t+\n",
            "CM069765.1\t5512\t5796\texon\t\"RB653_003324\";\t+\n",
            "CM069765.1\t5871\t6633\texon\t\"RB653_003324\";\t+\n",
            "CM069765.1\t6694\t8310\texon\t\"RB653_003324\";\t+\n",
            "CM069765.1\t8574\t10467\texon\t\"RB653_003325\";\t+\n",
            "CM069765.1\t10788\t10823\texon\t\"RB653_003326\";\t+\n",
            "CM069765.1\t10889\t11699\texon\t\"RB653_003326\";\t+\n",
            "CM069765.1\t11779\t12401\texon\t\"RB653_003326\";\t+\n"
          ]
        }
      ]
    },
    {
      "cell_type": "markdown",
      "source": [
        "Получим координаты генов"
      ],
      "metadata": {
        "id": "V8AIKstOb5uV"
      }
    },
    {
      "cell_type": "code",
      "source": [
        "!awk 'BEGIN{OFS=\"\\t\"} {if ($4 == \"gene\") {print $1, $2, $3, $4, $5, $6}}' annotation.bed > genes.bed"
      ],
      "metadata": {
        "id": "bAfprijoNS-q"
      },
      "execution_count": 27,
      "outputs": []
    },
    {
      "cell_type": "markdown",
      "source": [
        "Получим промоторы"
      ],
      "metadata": {
        "id": "ptWOw2i9GIK6"
      }
    },
    {
      "cell_type": "code",
      "source": [
        "!bedtools flank -i genes.bed -g scaffolds.sizes -l 1000 -r 0 -s > promoters.bed"
      ],
      "metadata": {
        "id": "yaAwEFbbbCZN"
      },
      "execution_count": 28,
      "outputs": []
    },
    {
      "cell_type": "code",
      "source": [
        "!head promoters.bed"
      ],
      "metadata": {
        "colab": {
          "base_uri": "https://localhost:8080/"
        },
        "id": "YFpxmRq_cMR1",
        "outputId": "f4349f3e-c612-477a-e398-b8c26c9ecc37"
      },
      "execution_count": 29,
      "outputs": [
        {
          "output_type": "stream",
          "name": "stdout",
          "text": [
            "CM069765.1\t2773\t3773\tgene\t\"RB653_010779\";\t+\n",
            "CM069765.1\t4009\t5009\tgene\t\"RB653_003324\";\t+\n",
            "CM069765.1\t7574\t8574\tgene\t\"RB653_003325\";\t+\n",
            "CM069765.1\t9788\t10788\tgene\t\"RB653_003326\";\t+\n",
            "CM069765.1\t18014\t19014\tgene\t\"RB653_003336\";\t-\n",
            "CM069765.1\t18644\t19644\tgene\t\"RB653_010780\";\t-\n",
            "CM069765.1\t19053\t20053\tgene\t\"RB653_003327\";\t+\n",
            "CM069765.1\t21801\t22801\tgene\t\"RB653_003337\";\t-\n",
            "CM069765.1\t21135\t22135\tgene\t\"RB653_003328\";\t+\n",
            "CM069765.1\t27853\t28853\tgene\t\"RB653_003338\";\t-\n"
          ]
        }
      ]
    },
    {
      "cell_type": "markdown",
      "source": [
        "Получим интроны (между экзонами в транскрибируемой области)"
      ],
      "metadata": {
        "id": "ltL5Xbr7NJ6f"
      }
    },
    {
      "cell_type": "code",
      "source": [
        "!awk '$4==\"transcript\"' annotation.bed > transcripts.bed"
      ],
      "metadata": {
        "id": "fG5SU-iq1ynR"
      },
      "execution_count": 30,
      "outputs": []
    },
    {
      "cell_type": "code",
      "source": [
        "!head transcripts.bed"
      ],
      "metadata": {
        "colab": {
          "base_uri": "https://localhost:8080/"
        },
        "id": "ADnDKm-a1_Vx",
        "outputId": "800c8b20-8194-4867-b75b-8fa8cabba2d3"
      },
      "execution_count": 31,
      "outputs": [
        {
          "output_type": "stream",
          "name": "stdout",
          "text": [
            "CM069765.1\t3773\t3847\ttranscript\t\"RB653_010779\";\t+\n",
            "CM069765.1\t5009\t8310\ttranscript\t\"RB653_003324\";\t+\n",
            "CM069765.1\t8574\t10467\ttranscript\t\"RB653_003325\";\t+\n",
            "CM069765.1\t10788\t12401\ttranscript\t\"RB653_003326\";\t+\n",
            "CM069765.1\t13577\t18014\ttranscript\t\"RB653_003336\";\t-\n",
            "CM069765.1\t18570\t18644\ttranscript\t\"RB653_010780\";\t-\n",
            "CM069765.1\t20053\t20407\ttranscript\t\"RB653_003327\";\t+\n",
            "CM069765.1\t20486\t21801\ttranscript\t\"RB653_003337\";\t-\n",
            "CM069765.1\t22135\t27167\ttranscript\t\"RB653_003328\";\t+\n",
            "CM069765.1\t26685\t27853\ttranscript\t\"RB653_003338\";\t-\n"
          ]
        }
      ]
    },
    {
      "cell_type": "code",
      "source": [
        "!bedtools subtract -a transcripts.bed -b exons.bed > introns.bed"
      ],
      "metadata": {
        "id": "-PtI2oCj15NB"
      },
      "execution_count": 32,
      "outputs": []
    },
    {
      "cell_type": "code",
      "source": [
        "!head introns.bed"
      ],
      "metadata": {
        "id": "I0CE71_V18If",
        "colab": {
          "base_uri": "https://localhost:8080/"
        },
        "outputId": "611b9426-60e8-42a4-e43d-9491010e50c4"
      },
      "execution_count": 33,
      "outputs": [
        {
          "output_type": "stream",
          "name": "stdout",
          "text": [
            "CM069765.1\t5093\t5191\ttranscript\t\"RB653_003324\";\t+\n",
            "CM069765.1\t5424\t5512\ttranscript\t\"RB653_003324\";\t+\n",
            "CM069765.1\t5796\t5871\ttranscript\t\"RB653_003324\";\t+\n",
            "CM069765.1\t6633\t6694\ttranscript\t\"RB653_003324\";\t+\n",
            "CM069765.1\t10823\t10889\ttranscript\t\"RB653_003326\";\t+\n",
            "CM069765.1\t11699\t11779\ttranscript\t\"RB653_003326\";\t+\n",
            "CM069765.1\t16942\t17034\ttranscript\t\"RB653_003336\";\t-\n",
            "CM069765.1\t17506\t17576\ttranscript\t\"RB653_003336\";\t-\n",
            "CM069765.1\t20712\t20784\ttranscript\t\"RB653_003337\";\t-\n",
            "CM069765.1\t21079\t21230\ttranscript\t\"RB653_003337\";\t-\n"
          ]
        }
      ]
    },
    {
      "cell_type": "markdown",
      "source": [
        "Получим межгенные регионы"
      ],
      "metadata": {
        "id": "_fKtQT8QUN77"
      }
    },
    {
      "cell_type": "code",
      "source": [
        "!bedtools complement -i genes.bed -g scaffolds.sizes > intergenic.bed"
      ],
      "metadata": {
        "id": "_ZXgZL5FUXq8"
      },
      "execution_count": 34,
      "outputs": []
    },
    {
      "cell_type": "code",
      "source": [
        "!head intergenic.bed"
      ],
      "metadata": {
        "colab": {
          "base_uri": "https://localhost:8080/"
        },
        "id": "N1jk_gZReAM9",
        "outputId": "54242a5e-8160-49fe-be6b-59fd6e744075"
      },
      "execution_count": 35,
      "outputs": [
        {
          "output_type": "stream",
          "name": "stdout",
          "text": [
            "CM069765.1\t0\t3773\n",
            "CM069765.1\t3847\t5009\n",
            "CM069765.1\t8310\t8574\n",
            "CM069765.1\t10467\t10788\n",
            "CM069765.1\t12401\t13577\n",
            "CM069765.1\t18014\t18570\n",
            "CM069765.1\t18644\t20053\n",
            "CM069765.1\t20407\t20486\n",
            "CM069765.1\t21801\t22135\n",
            "CM069765.1\t27853\t28147\n"
          ]
        }
      ]
    },
    {
      "cell_type": "code",
      "source": [
        "!bedtools flank -i genes.bed -g scaffolds.sizes -l 0 -r 200 -s  > downstream.bed"
      ],
      "metadata": {
        "id": "NLPBgqLm3kLL"
      },
      "execution_count": 36,
      "outputs": []
    },
    {
      "cell_type": "code",
      "source": [
        "!head downstream.bed"
      ],
      "metadata": {
        "colab": {
          "base_uri": "https://localhost:8080/"
        },
        "id": "orZrKRaU4YGB",
        "outputId": "e3c04c76-18d1-4801-fcac-8ff04bf55809"
      },
      "execution_count": 37,
      "outputs": [
        {
          "output_type": "stream",
          "name": "stdout",
          "text": [
            "CM069765.1\t3847\t4047\tgene\t\"RB653_010779\";\t+\n",
            "CM069765.1\t8310\t8510\tgene\t\"RB653_003324\";\t+\n",
            "CM069765.1\t10467\t10667\tgene\t\"RB653_003325\";\t+\n",
            "CM069765.1\t12401\t12601\tgene\t\"RB653_003326\";\t+\n",
            "CM069765.1\t13377\t13577\tgene\t\"RB653_003336\";\t-\n",
            "CM069765.1\t18370\t18570\tgene\t\"RB653_010780\";\t-\n",
            "CM069765.1\t20407\t20607\tgene\t\"RB653_003327\";\t+\n",
            "CM069765.1\t20286\t20486\tgene\t\"RB653_003337\";\t-\n",
            "CM069765.1\t27167\t27367\tgene\t\"RB653_003328\";\t+\n",
            "CM069765.1\t26485\t26685\tgene\t\"RB653_003338\";\t-\n"
          ]
        }
      ]
    },
    {
      "cell_type": "markdown",
      "source": [
        "## Получим всю информацию по квадруплексам"
      ],
      "metadata": {
        "id": "Sg7t6ehHU8Je"
      }
    },
    {
      "cell_type": "code",
      "source": [
        "!bedtools intersect -a quadr.bed -b exons.bed -wa -s > quadr_in_exons.bed"
      ],
      "metadata": {
        "id": "B7jVEpJWVvu_"
      },
      "execution_count": 38,
      "outputs": []
    },
    {
      "cell_type": "code",
      "source": [
        "!bedtools intersect -a quadr.bed -b introns.bed -wa -s > quadr_in_introns.bed"
      ],
      "metadata": {
        "id": "2SVTkxRL2ND7"
      },
      "execution_count": 39,
      "outputs": []
    },
    {
      "cell_type": "code",
      "source": [
        "!bedtools intersect -a quadr.bed -b promoters.bed -wa -s > quadr_in_promoters.bed"
      ],
      "metadata": {
        "id": "I6JQi-cB02ZZ"
      },
      "execution_count": 40,
      "outputs": []
    },
    {
      "cell_type": "code",
      "source": [
        "!bedtools intersect -a quadr.bed -b genes.bed -v -s > quadr_in_intergenic.bed"
      ],
      "metadata": {
        "id": "u2-qtkdppO-4"
      },
      "execution_count": 41,
      "outputs": []
    },
    {
      "cell_type": "code",
      "source": [
        "!bedtools intersect -a quadr.bed -b downstream.bed -wa -s > quadr_in_downstream.bed"
      ],
      "metadata": {
        "id": "ph44Wz6d4huK"
      },
      "execution_count": 42,
      "outputs": []
    },
    {
      "cell_type": "code",
      "source": [
        "!cat quadr_in_introns.bed | wc -l"
      ],
      "metadata": {
        "id": "3Ck4q-b42RmB",
        "colab": {
          "base_uri": "https://localhost:8080/"
        },
        "outputId": "e512f2c7-d0d0-4dcd-9c9d-ad12702b4495"
      },
      "execution_count": 43,
      "outputs": [
        {
          "output_type": "stream",
          "name": "stdout",
          "text": [
            "2\n"
          ]
        }
      ]
    },
    {
      "cell_type": "code",
      "source": [
        "!cat quadr_in_promoters.bed | wc -l"
      ],
      "metadata": {
        "colab": {
          "base_uri": "https://localhost:8080/"
        },
        "id": "RWDtt2Z91HKo",
        "outputId": "f74de840-095c-42c1-f5ff-0cc0f1c81d95"
      },
      "execution_count": 44,
      "outputs": [
        {
          "output_type": "stream",
          "name": "stdout",
          "text": [
            "25\n"
          ]
        }
      ]
    },
    {
      "cell_type": "code",
      "source": [
        "!cat quadr_in_exons.bed | wc -l"
      ],
      "metadata": {
        "colab": {
          "base_uri": "https://localhost:8080/"
        },
        "id": "UkhMmsc_poaO",
        "outputId": "69981f28-f49c-482e-b4bc-44d02080726e"
      },
      "execution_count": 45,
      "outputs": [
        {
          "output_type": "stream",
          "name": "stdout",
          "text": [
            "10\n"
          ]
        }
      ]
    },
    {
      "cell_type": "code",
      "source": [
        "!cat quadr_in_intergenic.bed | wc -l"
      ],
      "metadata": {
        "colab": {
          "base_uri": "https://localhost:8080/"
        },
        "id": "mRACWzfkpitF",
        "outputId": "9ebb1fda-8639-46bc-8d79-36dc7f714cd0"
      },
      "execution_count": 46,
      "outputs": [
        {
          "output_type": "stream",
          "name": "stdout",
          "text": [
            "204\n"
          ]
        }
      ]
    },
    {
      "cell_type": "code",
      "source": [
        "!cat quadr_in_downstream.bed | wc -l"
      ],
      "metadata": {
        "colab": {
          "base_uri": "https://localhost:8080/"
        },
        "id": "60Tz_Nqypd5r",
        "outputId": "9d053928-1afb-4766-a1c7-f17bb3a33a7e"
      },
      "execution_count": 47,
      "outputs": [
        {
          "output_type": "stream",
          "name": "stdout",
          "text": [
            "4\n"
          ]
        }
      ]
    },
    {
      "cell_type": "code",
      "source": [
        "!cat quadr.bed | wc -l"
      ],
      "metadata": {
        "colab": {
          "base_uri": "https://localhost:8080/"
        },
        "id": "RWUrVpnr9nlN",
        "outputId": "90391de7-c65a-4be6-a744-6db9424af1c6"
      },
      "execution_count": 48,
      "outputs": [
        {
          "output_type": "stream",
          "name": "stdout",
          "text": [
            "216\n"
          ]
        }
      ]
    }
  ]
}