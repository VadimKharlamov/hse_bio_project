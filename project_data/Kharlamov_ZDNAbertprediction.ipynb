{
  "cells": [
    {
      "cell_type": "markdown",
      "metadata": {
        "id": "UBHOSBfHyyK1"
      },
      "source": [
        "[![Open In Colab](https://colab.research.google.com/assets/colab-badge.svg)](https://colab.research.google.com/github/mitiau/DNABERT-Z/blob/main/ZDNA-prediction.ipynb)"
      ]
    },
    {
      "cell_type": "markdown",
      "metadata": {
        "id": "f59Ujuujn___"
      },
      "source": [
        "# Install dependecies and define helper functions"
      ]
    },
    {
      "cell_type": "code",
      "execution_count": 1,
      "metadata": {
        "id": "apiUcTpNTnlU",
        "colab": {
          "base_uri": "https://localhost:8080/"
        },
        "outputId": "d2852efa-4fcb-41f7-de8f-ca1ebe53604d"
      },
      "outputs": [
        {
          "output_type": "stream",
          "name": "stdout",
          "text": [
            "Requirement already satisfied: transformers in /usr/local/lib/python3.11/dist-packages (4.52.4)\n",
            "Requirement already satisfied: filelock in /usr/local/lib/python3.11/dist-packages (from transformers) (3.18.0)\n",
            "Requirement already satisfied: huggingface-hub<1.0,>=0.30.0 in /usr/local/lib/python3.11/dist-packages (from transformers) (0.32.4)\n",
            "Requirement already satisfied: numpy>=1.17 in /usr/local/lib/python3.11/dist-packages (from transformers) (2.0.2)\n",
            "Requirement already satisfied: packaging>=20.0 in /usr/local/lib/python3.11/dist-packages (from transformers) (24.2)\n",
            "Requirement already satisfied: pyyaml>=5.1 in /usr/local/lib/python3.11/dist-packages (from transformers) (6.0.2)\n",
            "Requirement already satisfied: regex!=2019.12.17 in /usr/local/lib/python3.11/dist-packages (from transformers) (2024.11.6)\n",
            "Requirement already satisfied: requests in /usr/local/lib/python3.11/dist-packages (from transformers) (2.32.3)\n",
            "Requirement already satisfied: tokenizers<0.22,>=0.21 in /usr/local/lib/python3.11/dist-packages (from transformers) (0.21.1)\n",
            "Requirement already satisfied: safetensors>=0.4.3 in /usr/local/lib/python3.11/dist-packages (from transformers) (0.5.3)\n",
            "Requirement already satisfied: tqdm>=4.27 in /usr/local/lib/python3.11/dist-packages (from transformers) (4.67.1)\n",
            "Requirement already satisfied: fsspec>=2023.5.0 in /usr/local/lib/python3.11/dist-packages (from huggingface-hub<1.0,>=0.30.0->transformers) (2025.3.2)\n",
            "Requirement already satisfied: typing-extensions>=3.7.4.3 in /usr/local/lib/python3.11/dist-packages (from huggingface-hub<1.0,>=0.30.0->transformers) (4.14.0)\n",
            "Requirement already satisfied: hf-xet<2.0.0,>=1.1.2 in /usr/local/lib/python3.11/dist-packages (from huggingface-hub<1.0,>=0.30.0->transformers) (1.1.2)\n",
            "Requirement already satisfied: charset-normalizer<4,>=2 in /usr/local/lib/python3.11/dist-packages (from requests->transformers) (3.4.2)\n",
            "Requirement already satisfied: idna<4,>=2.5 in /usr/local/lib/python3.11/dist-packages (from requests->transformers) (3.10)\n",
            "Requirement already satisfied: urllib3<3,>=1.21.1 in /usr/local/lib/python3.11/dist-packages (from requests->transformers) (2.4.0)\n",
            "Requirement already satisfied: certifi>=2017.4.17 in /usr/local/lib/python3.11/dist-packages (from requests->transformers) (2025.4.26)\n",
            "Collecting biopython\n",
            "  Downloading biopython-1.85-cp311-cp311-manylinux_2_17_x86_64.manylinux2014_x86_64.whl.metadata (13 kB)\n",
            "Requirement already satisfied: numpy in /usr/local/lib/python3.11/dist-packages (from biopython) (2.0.2)\n",
            "Downloading biopython-1.85-cp311-cp311-manylinux_2_17_x86_64.manylinux2014_x86_64.whl (3.3 MB)\n",
            "\u001b[2K   \u001b[90m━━━━━━━━━━━━━━━━━━━━━━━━━━━━━━━━━━━━━━━━\u001b[0m \u001b[32m3.3/3.3 MB\u001b[0m \u001b[31m48.0 MB/s\u001b[0m eta \u001b[36m0:00:00\u001b[0m\n",
            "\u001b[?25hInstalling collected packages: biopython\n",
            "Successfully installed biopython-1.85\n"
          ]
        }
      ],
      "source": [
        "!pip install transformers\n",
        "!pip install biopython"
      ]
    },
    {
      "cell_type": "code",
      "execution_count": 2,
      "metadata": {
        "id": "Bsyfz4BrSxMN"
      },
      "outputs": [],
      "source": [
        "import torch\n",
        "from torch import nn\n",
        "import transformers\n",
        "from transformers import BertTokenizer, BertForTokenClassification\n",
        "import numpy as np\n",
        "from Bio import SeqIO\n",
        "from io import StringIO, BytesIO\n",
        "from google.colab import drive, files\n",
        "from tqdm import tqdm\n",
        "import pickle\n",
        "import scipy\n",
        "from scipy import ndimage"
      ]
    },
    {
      "cell_type": "code",
      "execution_count": 3,
      "metadata": {
        "id": "62uGGr2IyyK-"
      },
      "outputs": [],
      "source": [
        "def seq2kmer(seq, k):\n",
        "    kmer = [seq[x:x+k] for x in range(len(seq)+1-k)]\n",
        "    return kmer\n",
        "\n",
        "def split_seq(seq, length = 512, pad = 16):\n",
        "    res = []\n",
        "    for st in range(0, len(seq), length - pad):\n",
        "        end = min(st+512, len(seq))\n",
        "        res.append(seq[st:end])\n",
        "    return res\n",
        "\n",
        "def stitch_np_seq(np_seqs, pad = 16):\n",
        "    res = np.array([])\n",
        "    for seq in np_seqs:\n",
        "        res = res[:-pad]\n",
        "        res = np.concatenate([res,seq])\n",
        "    return res"
      ]
    },
    {
      "cell_type": "markdown",
      "metadata": {
        "id": "OBn1DL8vyyK_"
      },
      "source": [
        "# Select model and parameters"
      ]
    },
    {
      "cell_type": "code",
      "execution_count": 4,
      "metadata": {
        "id": "OG3cCIpYyyLA"
      },
      "outputs": [],
      "source": [
        "model = 'HG kouzine' #@param [\"HG chipseq\", \"HG kouzine\", \"MM chipseq\", \"MM kouzine\"]\n",
        "model_confidence_threshold = 0.5 #@param {type:\"number\"}\n",
        "minimum_sequence_length = 10 #@param {type:\"integer\"}"
      ]
    },
    {
      "cell_type": "code",
      "execution_count": 5,
      "metadata": {
        "id": "aU9iNiFlyyLA"
      },
      "outputs": [],
      "source": [
        "if model == 'HG chipseq':\n",
        "    model_id = '1VAsp8I904y_J0PUhAQqpSlCn1IqfG0FB'\n",
        "elif model == 'HG kouzine':\n",
        "    model_id = '1dAeAt5Gu2cadwDhbc7OnenUgDLHlUvkx'\n",
        "elif model == 'MM curax':\n",
        "    model_id = '1W6GEgHNoitlB-xXJbLJ_jDW4BF35W1Sd'\n",
        "elif model == 'MM kouzine':\n",
        "    model_id = '1dXpQFmheClKXIEoqcZ7kgCwx6hzVCv3H'\n"
      ]
    },
    {
      "cell_type": "code",
      "execution_count": 6,
      "metadata": {
        "id": "A_AJncAMyyLB",
        "colab": {
          "base_uri": "https://localhost:8080/"
        },
        "outputId": "6bf5a49c-4a1d-4877-8a78-1b4b00a742cc"
      },
      "outputs": [
        {
          "output_type": "stream",
          "name": "stdout",
          "text": [
            "Downloading...\n",
            "From (original): https://drive.google.com/uc?id=1dAeAt5Gu2cadwDhbc7OnenUgDLHlUvkx\n",
            "From (redirected): https://drive.google.com/uc?id=1dAeAt5Gu2cadwDhbc7OnenUgDLHlUvkx&confirm=t&uuid=15909445-e7bc-418a-b591-fc1751d12bc6\n",
            "To: /content/pytorch_model.bin\n",
            "100% 354M/354M [00:02<00:00, 128MB/s]\n",
            "Downloading...\n",
            "From: https://drive.google.com/uc?id=10sF8Ywktd96HqAL0CwvlZZUUGj05CGk5\n",
            "To: /content/config.json\n",
            "100% 634/634 [00:00<00:00, 2.81MB/s]\n",
            "Downloading...\n",
            "From: https://drive.google.com/uc?id=16bT7HDv71aRwyh3gBUbKwign1mtyLD2d\n",
            "To: /content/special_tokens_map.json\n",
            "100% 112/112 [00:00<00:00, 514kB/s]\n",
            "Downloading...\n",
            "From: https://drive.google.com/uc?id=1EE9goZ2JRSD8UTx501q71lGCk-CK3kqG\n",
            "To: /content/tokenizer_config.json\n",
            "100% 40.0/40.0 [00:00<00:00, 203kB/s]\n",
            "Downloading...\n",
            "From: https://drive.google.com/uc?id=1gZZdtAoDnDiLQqjQfGyuwt268Pe5sXW0\n",
            "To: /content/vocab.txt\n",
            "100% 28.7k/28.7k [00:00<00:00, 75.0MB/s]\n"
          ]
        }
      ],
      "source": [
        "!gdown $model_id\n",
        "!gdown 10sF8Ywktd96HqAL0CwvlZZUUGj05CGk5\n",
        "!gdown 16bT7HDv71aRwyh3gBUbKwign1mtyLD2d\n",
        "!gdown 1EE9goZ2JRSD8UTx501q71lGCk-CK3kqG\n",
        "!gdown 1gZZdtAoDnDiLQqjQfGyuwt268Pe5sXW0\n",
        "\n",
        "\n",
        "!mkdir 6-new-12w-0\n",
        "!mv pytorch_model.bin 6-new-12w-0/\n",
        "!mv config.json 6-new-12w-0/\n",
        "!mv special_tokens_map.json 6-new-12w-0/\n",
        "!mv tokenizer_config.json 6-new-12w-0/\n",
        "!mv vocab.txt 6-new-12w-0/"
      ]
    },
    {
      "cell_type": "code",
      "execution_count": 7,
      "metadata": {
        "id": "ydJlIUGzyyLC",
        "colab": {
          "base_uri": "https://localhost:8080/"
        },
        "outputId": "da89e99d-ffd0-4296-b4d8-579ac6f0d5b3"
      },
      "outputs": [
        {
          "output_type": "execute_result",
          "data": {
            "text/plain": [
              "BertForTokenClassification(\n",
              "  (bert): BertModel(\n",
              "    (embeddings): BertEmbeddings(\n",
              "      (word_embeddings): Embedding(4101, 768, padding_idx=0)\n",
              "      (position_embeddings): Embedding(512, 768)\n",
              "      (token_type_embeddings): Embedding(2, 768)\n",
              "      (LayerNorm): LayerNorm((768,), eps=1e-12, elementwise_affine=True)\n",
              "      (dropout): Dropout(p=0.1, inplace=False)\n",
              "    )\n",
              "    (encoder): BertEncoder(\n",
              "      (layer): ModuleList(\n",
              "        (0-11): 12 x BertLayer(\n",
              "          (attention): BertAttention(\n",
              "            (self): BertSdpaSelfAttention(\n",
              "              (query): Linear(in_features=768, out_features=768, bias=True)\n",
              "              (key): Linear(in_features=768, out_features=768, bias=True)\n",
              "              (value): Linear(in_features=768, out_features=768, bias=True)\n",
              "              (dropout): Dropout(p=0.1, inplace=False)\n",
              "            )\n",
              "            (output): BertSelfOutput(\n",
              "              (dense): Linear(in_features=768, out_features=768, bias=True)\n",
              "              (LayerNorm): LayerNorm((768,), eps=1e-12, elementwise_affine=True)\n",
              "              (dropout): Dropout(p=0.1, inplace=False)\n",
              "            )\n",
              "          )\n",
              "          (intermediate): BertIntermediate(\n",
              "            (dense): Linear(in_features=768, out_features=3072, bias=True)\n",
              "            (intermediate_act_fn): GELUActivation()\n",
              "          )\n",
              "          (output): BertOutput(\n",
              "            (dense): Linear(in_features=3072, out_features=768, bias=True)\n",
              "            (LayerNorm): LayerNorm((768,), eps=1e-12, elementwise_affine=True)\n",
              "            (dropout): Dropout(p=0.1, inplace=False)\n",
              "          )\n",
              "        )\n",
              "      )\n",
              "    )\n",
              "  )\n",
              "  (dropout): Dropout(p=0.1, inplace=False)\n",
              "  (classifier): Linear(in_features=768, out_features=2, bias=True)\n",
              ")"
            ]
          },
          "metadata": {},
          "execution_count": 7
        }
      ],
      "source": [
        "tokenizer = BertTokenizer.from_pretrained('6-new-12w-0/')\n",
        "model = BertForTokenClassification.from_pretrained('6-new-12w-0/')\n",
        "model.cuda()"
      ]
    },
    {
      "cell_type": "markdown",
      "metadata": {
        "id": "TAp3NQyaupxE"
      },
      "source": [
        "# Upload fasta files for prediction"
      ]
    },
    {
      "cell_type": "code",
      "execution_count": 8,
      "metadata": {
        "id": "XJIlDZUSyyLE",
        "colab": {
          "base_uri": "https://localhost:8080/"
        },
        "outputId": "2f182e1c-45d5-4537-ed1b-92b8906ff330"
      },
      "outputs": [
        {
          "output_type": "stream",
          "name": "stdout",
          "text": [
            "--2025-06-15 12:08:51--  https://ftp.ncbi.nlm.nih.gov/genomes/all/GCA/036/169/595/GCA_036169595.1_ASM3616959v1/GCA_036169595.1_ASM3616959v1_genomic.fna.gz\n",
            "Resolving ftp.ncbi.nlm.nih.gov (ftp.ncbi.nlm.nih.gov)... 130.14.250.31, 130.14.250.7, 130.14.250.10, ...\n",
            "Connecting to ftp.ncbi.nlm.nih.gov (ftp.ncbi.nlm.nih.gov)|130.14.250.31|:443... connected.\n",
            "HTTP request sent, awaiting response... 200 OK\n",
            "Length: 9089934 (8.7M) [application/x-gzip]\n",
            "Saving to: ‘genome.fna.gz’\n",
            "\n",
            "genome.fna.gz       100%[===================>]   8.67M  11.7MB/s    in 0.7s    \n",
            "\n",
            "2025-06-15 12:08:52 (11.7 MB/s) - ‘genome.fna.gz’ saved [9089934/9089934]\n",
            "\n"
          ]
        }
      ],
      "source": [
        "!wget -O 'genome.fna.gz' https://ftp.ncbi.nlm.nih.gov/genomes/all/GCA/036/169/595/GCA_036169595.1_ASM3616959v1/GCA_036169595.1_ASM3616959v1_genomic.fna.gz"
      ]
    },
    {
      "cell_type": "code",
      "source": [
        "!gzip -rd 'genome.fna.gz'"
      ],
      "metadata": {
        "id": "32JpGmDi0ToB"
      },
      "execution_count": 9,
      "outputs": []
    },
    {
      "cell_type": "markdown",
      "metadata": {
        "id": "fTgeRYt9yyLE"
      },
      "source": [
        "# Predict and save raw outputs"
      ]
    },
    {
      "cell_type": "code",
      "execution_count": 10,
      "metadata": {
        "id": "_1qjq3i-VCEz",
        "colab": {
          "base_uri": "https://localhost:8080/"
        },
        "outputId": "2eb7a181-8f26-4df4-dc91-40f9a30bf15c"
      },
      "outputs": [
        {
          "output_type": "stream",
          "name": "stdout",
          "text": [
            "CM069765.1\n"
          ]
        },
        {
          "output_type": "stream",
          "name": "stderr",
          "text": [
            "100%|██████████| 18978/18978 [11:36<00:00, 27.23it/s]\n"
          ]
        },
        {
          "output_type": "stream",
          "name": "stdout",
          "text": [
            "4701041 4701052\n",
            "5631133 5631145\n",
            "8876064 8876075\n",
            "CM069766.1\n"
          ]
        },
        {
          "output_type": "stream",
          "name": "stderr",
          "text": [
            "100%|██████████| 10243/10243 [06:10<00:00, 27.65it/s]\n"
          ]
        },
        {
          "output_type": "stream",
          "name": "stdout",
          "text": [
            "5076796 5076807\n",
            "CM069767.1\n"
          ]
        },
        {
          "output_type": "stream",
          "name": "stderr",
          "text": [
            "100%|██████████| 9966/9966 [06:07<00:00, 27.15it/s]\n"
          ]
        },
        {
          "output_type": "stream",
          "name": "stdout",
          "text": [
            "4765477 4765490\n",
            "CM069768.1\n"
          ]
        },
        {
          "output_type": "stream",
          "name": "stderr",
          "text": [
            "100%|██████████| 8855/8855 [05:27<00:00, 27.04it/s]\n"
          ]
        },
        {
          "output_type": "stream",
          "name": "stdout",
          "text": [
            "CM069769.1\n"
          ]
        },
        {
          "output_type": "stream",
          "name": "stderr",
          "text": [
            "100%|██████████| 8625/8625 [05:25<00:00, 26.46it/s]\n"
          ]
        },
        {
          "output_type": "stream",
          "name": "stdout",
          "text": [
            "CM069770.1\n"
          ]
        },
        {
          "output_type": "stream",
          "name": "stderr",
          "text": [
            "100%|██████████| 6017/6017 [03:48<00:00, 26.32it/s]\n"
          ]
        },
        {
          "output_type": "stream",
          "name": "stdout",
          "text": [
            "JAVFKY010000007.1\n"
          ]
        },
        {
          "output_type": "stream",
          "name": "stderr",
          "text": [
            "100%|██████████| 239/239 [00:08<00:00, 26.67it/s]\n"
          ]
        },
        {
          "output_type": "stream",
          "name": "stdout",
          "text": [
            "JAVFKY010000008.1\n"
          ]
        },
        {
          "output_type": "stream",
          "name": "stderr",
          "text": [
            "100%|██████████| 194/194 [00:07<00:00, 26.35it/s]\n"
          ]
        },
        {
          "output_type": "stream",
          "name": "stdout",
          "text": [
            "JAVFKY010000010.1\n"
          ]
        },
        {
          "output_type": "stream",
          "name": "stderr",
          "text": [
            "100%|██████████| 77/77 [00:02<00:00, 27.04it/s]\n"
          ]
        },
        {
          "output_type": "stream",
          "name": "stdout",
          "text": [
            "JAVFKY010000011.1\n"
          ]
        },
        {
          "output_type": "stream",
          "name": "stderr",
          "text": [
            "100%|██████████| 72/72 [00:02<00:00, 26.25it/s]\n"
          ]
        },
        {
          "output_type": "stream",
          "name": "stdout",
          "text": [
            "20139 20152\n",
            "23534 23551\n",
            "JAVFKY010000012.1\n"
          ]
        },
        {
          "output_type": "stream",
          "name": "stderr",
          "text": [
            "100%|██████████| 48/48 [00:01<00:00, 24.79it/s]\n"
          ]
        },
        {
          "output_type": "stream",
          "name": "stdout",
          "text": [
            "CM069771.1\n"
          ]
        },
        {
          "output_type": "stream",
          "name": "stderr",
          "text": [
            "100%|██████████| 110/110 [00:04<00:00, 25.52it/s]\n"
          ]
        }
      ],
      "source": [
        "out = []\n",
        "input_file ='genome.fna'\n",
        "result_dict = {}\n",
        "\n",
        "for seq_record in SeqIO.parse(input_file, 'fasta'):\n",
        "    kmer_seq = seq2kmer(str(seq_record.seq).upper(), 6)\n",
        "    seq_pieces = split_seq(kmer_seq)\n",
        "    print(seq_record.name)\n",
        "    with torch.no_grad():\n",
        "        preds = []\n",
        "        for seq_piece in tqdm(seq_pieces):\n",
        "            input_ids = torch.LongTensor(tokenizer.encode(' '.join(seq_piece), add_special_tokens=False))\n",
        "            outputs = torch.softmax(model(input_ids.cuda().unsqueeze(0))[-1],axis = -1)[0,:,1]\n",
        "            preds.append(outputs.cpu().numpy())\n",
        "    result_dict[seq_record.name] = stitch_np_seq(preds)\n",
        "\n",
        "\n",
        "    labeled, max_label = scipy.ndimage.label(result_dict[seq_record.name]>model_confidence_threshold)\n",
        "    for label in range(1, max_label+1):\n",
        "        candidate = np.where(labeled == label)[0]\n",
        "        candidate_length = candidate.shape[0]\n",
        "        if candidate_length>minimum_sequence_length:\n",
        "            print(candidate[0], candidate[-1])\n",
        "            out.append((seq_record.name, candidate[0], candidate[-1]))"
      ]
    },
    {
      "cell_type": "code",
      "source": [
        "out"
      ],
      "metadata": {
        "colab": {
          "base_uri": "https://localhost:8080/"
        },
        "id": "cnNefd_W6OD4",
        "outputId": "b01cfba3-d491-4973-8439-b587b79eb299"
      },
      "execution_count": 12,
      "outputs": [
        {
          "output_type": "execute_result",
          "data": {
            "text/plain": [
              "[('CM069765.1', np.int64(4701041), np.int64(4701052)),\n",
              " ('CM069765.1', np.int64(5631133), np.int64(5631145)),\n",
              " ('CM069765.1', np.int64(8876064), np.int64(8876075)),\n",
              " ('CM069766.1', np.int64(5076796), np.int64(5076807)),\n",
              " ('CM069767.1', np.int64(4765477), np.int64(4765490)),\n",
              " ('JAVFKY010000011.1', np.int64(20139), np.int64(20152)),\n",
              " ('JAVFKY010000011.1', np.int64(23534), np.int64(23551))]"
            ]
          },
          "metadata": {},
          "execution_count": 12
        }
      ]
    },
    {
      "cell_type": "code",
      "source": [
        "with open('ZDNABERT.bed', 'a') as f:\n",
        "    for record in out:\n",
        "        f.write(record[0] + \"\\t\" + str(record[1]) + \"\\t\" + str(record[2]) + \"\\n\")"
      ],
      "metadata": {
        "id": "0aGzyg7VDLOR"
      },
      "execution_count": 13,
      "outputs": []
    },
    {
      "cell_type": "code",
      "source": [
        "!head ZDNABERT.bed"
      ],
      "metadata": {
        "colab": {
          "base_uri": "https://localhost:8080/"
        },
        "id": "inOI-b8Y2Bxz",
        "outputId": "5ff1dfc4-2698-45f0-df8b-cebef9615bb8"
      },
      "execution_count": 14,
      "outputs": [
        {
          "output_type": "stream",
          "name": "stdout",
          "text": [
            "CM069765.1\t4701041\t4701052\n",
            "CM069765.1\t5631133\t5631145\n",
            "CM069765.1\t8876064\t8876075\n",
            "CM069766.1\t5076796\t5076807\n",
            "CM069767.1\t4765477\t4765490\n",
            "JAVFKY010000011.1\t20139\t20152\n",
            "JAVFKY010000011.1\t23534\t23551\n"
          ]
        }
      ]
    },
    {
      "cell_type": "code",
      "source": [
        "!apt-get install bedtools"
      ],
      "metadata": {
        "colab": {
          "base_uri": "https://localhost:8080/"
        },
        "id": "Gnpn38dV3lSX",
        "outputId": "3d5d35a4-9f3d-40cc-dfeb-41c8d62dd286"
      },
      "execution_count": 15,
      "outputs": [
        {
          "output_type": "stream",
          "name": "stdout",
          "text": [
            "Reading package lists... Done\n",
            "Building dependency tree... Done\n",
            "Reading state information... Done\n",
            "The following NEW packages will be installed:\n",
            "  bedtools\n",
            "0 upgraded, 1 newly installed, 0 to remove and 35 not upgraded.\n",
            "Need to get 563 kB of archives.\n",
            "After this operation, 1,548 kB of additional disk space will be used.\n",
            "Get:1 http://archive.ubuntu.com/ubuntu jammy-updates/universe amd64 bedtools amd64 2.30.0+dfsg-2ubuntu0.1 [563 kB]\n",
            "Fetched 563 kB in 1s (862 kB/s)\n",
            "Selecting previously unselected package bedtools.\n",
            "(Reading database ... 126111 files and directories currently installed.)\n",
            "Preparing to unpack .../bedtools_2.30.0+dfsg-2ubuntu0.1_amd64.deb ...\n",
            "Unpacking bedtools (2.30.0+dfsg-2ubuntu0.1) ...\n",
            "Setting up bedtools (2.30.0+dfsg-2ubuntu0.1) ...\n"
          ]
        }
      ]
    },
    {
      "cell_type": "markdown",
      "source": [
        "# Получим файлы промоторов/экзонов/межгенников/интронов и downstream"
      ],
      "metadata": {
        "id": "eXkwYtot2Kr8"
      }
    },
    {
      "cell_type": "code",
      "source": [
        "!wget -r -nH --cut-dirs=5 ftp.ncbi.nlm.nih.gov/genomes/all/GCA/036/169/595/GCA_036169595.1_ASM3616959v1/GCA_036169595.1_ASM3616959v1_genomic.fna.gz"
      ],
      "metadata": {
        "colab": {
          "base_uri": "https://localhost:8080/"
        },
        "id": "bdWD1ByI2tvh",
        "outputId": "b85099da-6683-4b4f-aca9-c0fb9639a732"
      },
      "execution_count": 24,
      "outputs": [
        {
          "output_type": "stream",
          "name": "stdout",
          "text": [
            "URL transformed to HTTPS due to an HSTS policy\n",
            "--2025-06-15 13:17:02--  https://ftp.ncbi.nlm.nih.gov/genomes/all/GCA/036/169/595/GCA_036169595.1_ASM3616959v1/GCA_036169595.1_ASM3616959v1_genomic.fna.gz\n",
            "Resolving ftp.ncbi.nlm.nih.gov (ftp.ncbi.nlm.nih.gov)... 130.14.250.12, 130.14.250.31, 130.14.250.11, ...\n",
            "Connecting to ftp.ncbi.nlm.nih.gov (ftp.ncbi.nlm.nih.gov)|130.14.250.12|:443... connected.\n",
            "HTTP request sent, awaiting response... 200 OK\n",
            "Length: 9089934 (8.7M) [application/x-gzip]\n",
            "Saving to: ‘595/GCA_036169595.1_ASM3616959v1/GCA_036169595.1_ASM3616959v1_genomic.fna.gz’\n",
            "\n",
            "595/GCA_036169595.1 100%[===================>]   8.67M  15.3MB/s    in 0.6s    \n",
            "\n",
            "2025-06-15 13:17:03 (15.3 MB/s) - ‘595/GCA_036169595.1_ASM3616959v1/GCA_036169595.1_ASM3616959v1_genomic.fna.gz’ saved [9089934/9089934]\n",
            "\n",
            "FINISHED --2025-06-15 13:17:03--\n",
            "Total wall clock time: 1.1s\n",
            "Downloaded: 1 files, 8.7M in 0.6s (15.3 MB/s)\n"
          ]
        }
      ]
    },
    {
      "cell_type": "code",
      "source": [
        "!gzip -rd GCA_036169595.1_ASM3616959v1_genomic.fna.gz"
      ],
      "metadata": {
        "id": "M15ABnhz2vMf"
      },
      "execution_count": 28,
      "outputs": []
    },
    {
      "cell_type": "code",
      "source": [
        "!wget -r -nH --cut-dirs=5 ftp.ncbi.nlm.nih.gov/genomes/all/GCA/036/169/595/GCA_036169595.1_ASM3616959v1/GCA_036169595.1_ASM3616959v1_genomic.gtf.gz"
      ],
      "metadata": {
        "colab": {
          "base_uri": "https://localhost:8080/"
        },
        "id": "X9_HAlYI2Fvm",
        "outputId": "c0096864-7318-4a41-a443-88952ba345e9"
      },
      "execution_count": 26,
      "outputs": [
        {
          "output_type": "stream",
          "name": "stdout",
          "text": [
            "URL transformed to HTTPS due to an HSTS policy\n",
            "--2025-06-15 13:17:10--  https://ftp.ncbi.nlm.nih.gov/genomes/all/GCA/036/169/595/GCA_036169595.1_ASM3616959v1/GCA_036169595.1_ASM3616959v1_genomic.gtf.gz\n",
            "Resolving ftp.ncbi.nlm.nih.gov (ftp.ncbi.nlm.nih.gov)... 130.14.250.12, 130.14.250.31, 130.14.250.11, ...\n",
            "Connecting to ftp.ncbi.nlm.nih.gov (ftp.ncbi.nlm.nih.gov)|130.14.250.12|:443... connected.\n",
            "HTTP request sent, awaiting response... 200 OK\n",
            "Length: 1742757 (1.7M) [application/x-gzip]\n",
            "Saving to: ‘595/GCA_036169595.1_ASM3616959v1/GCA_036169595.1_ASM3616959v1_genomic.gtf.gz’\n",
            "\n",
            "595/GCA_036169595.1 100%[===================>]   1.66M  3.81MB/s    in 0.4s    \n",
            "\n",
            "2025-06-15 13:17:11 (3.81 MB/s) - ‘595/GCA_036169595.1_ASM3616959v1/GCA_036169595.1_ASM3616959v1_genomic.gtf.gz’ saved [1742757/1742757]\n",
            "\n",
            "FINISHED --2025-06-15 13:17:11--\n",
            "Total wall clock time: 0.7s\n",
            "Downloaded: 1 files, 1.7M in 0.4s (3.81 MB/s)\n"
          ]
        }
      ]
    },
    {
      "cell_type": "code",
      "source": [
        "!gzip -rd GCA_036169595.1_ASM3616959v1_genomic.gtf.gz"
      ],
      "metadata": {
        "id": "Ndo5stuO2Z14"
      },
      "execution_count": 27,
      "outputs": []
    },
    {
      "cell_type": "code",
      "source": [
        "def calculate_scaffold_lengths(fasta_file, output_file):\n",
        "    with open(output_file, 'w') as out:\n",
        "        for record in SeqIO.parse(fasta_file, \"fasta\"):\n",
        "            scaffold_name = record.id\n",
        "            scaffold_length = len(record.seq)\n",
        "            out.write(f\"{scaffold_name}\\t{scaffold_length}\\n\")\n",
        "calculate_scaffold_lengths('GCA_036169595.1_ASM3616959v1_genomic.fna', 'scaffolds.sizes')"
      ],
      "metadata": {
        "id": "JymnaQf92fjT"
      },
      "execution_count": 29,
      "outputs": []
    },
    {
      "cell_type": "code",
      "source": [
        "!awk '{if($1 !~ /^#/ ) print $1\"\\t\"$4-1\"\\t\"$5\"\\t\"$3\"\\t\"$10\"\\t\"$7}' GCA_036169595.1_ASM3616959v1_genomic.gtf > annotation.bed"
      ],
      "metadata": {
        "id": "3T9j0qRm265v"
      },
      "execution_count": 31,
      "outputs": []
    },
    {
      "cell_type": "code",
      "source": [
        "!head annotation.bed"
      ],
      "metadata": {
        "colab": {
          "base_uri": "https://localhost:8080/"
        },
        "id": "y67HfuH32-dC",
        "outputId": "8db15195-b815-45e2-d784-25a82538c8dd"
      },
      "execution_count": 32,
      "outputs": [
        {
          "output_type": "stream",
          "name": "stdout",
          "text": [
            "CM069765.1\t3773\t3847\tgene\t\"RB653_010779\";\t+\n",
            "CM069765.1\t3773\t3847\ttranscript\t\"RB653_010779\";\t+\n",
            "CM069765.1\t3773\t3847\texon\t\"RB653_010779\";\t+\n",
            "CM069765.1\t5009\t8310\tgene\t\"RB653_003324\";\t+\n",
            "CM069765.1\t5009\t8310\ttranscript\t\"RB653_003324\";\t+\n",
            "CM069765.1\t5009\t5093\texon\t\"RB653_003324\";\t+\n",
            "CM069765.1\t5191\t5424\texon\t\"RB653_003324\";\t+\n",
            "CM069765.1\t5512\t5796\texon\t\"RB653_003324\";\t+\n",
            "CM069765.1\t5871\t6633\texon\t\"RB653_003324\";\t+\n",
            "CM069765.1\t6694\t8310\texon\t\"RB653_003324\";\t+\n"
          ]
        }
      ]
    },
    {
      "cell_type": "code",
      "source": [
        "!awk '$4 == \"exon\"' annotation.bed > exons.bed"
      ],
      "metadata": {
        "id": "qYB5rVcM3A1Q"
      },
      "execution_count": 33,
      "outputs": []
    },
    {
      "cell_type": "code",
      "source": [
        "!head exons.bed"
      ],
      "metadata": {
        "colab": {
          "base_uri": "https://localhost:8080/"
        },
        "id": "GpcuRUmK3Ncq",
        "outputId": "7fe127cb-1f1c-42a7-ed34-a6798997be51"
      },
      "execution_count": 34,
      "outputs": [
        {
          "output_type": "stream",
          "name": "stdout",
          "text": [
            "CM069765.1\t3773\t3847\texon\t\"RB653_010779\";\t+\n",
            "CM069765.1\t5009\t5093\texon\t\"RB653_003324\";\t+\n",
            "CM069765.1\t5191\t5424\texon\t\"RB653_003324\";\t+\n",
            "CM069765.1\t5512\t5796\texon\t\"RB653_003324\";\t+\n",
            "CM069765.1\t5871\t6633\texon\t\"RB653_003324\";\t+\n",
            "CM069765.1\t6694\t8310\texon\t\"RB653_003324\";\t+\n",
            "CM069765.1\t8574\t10467\texon\t\"RB653_003325\";\t+\n",
            "CM069765.1\t10788\t10823\texon\t\"RB653_003326\";\t+\n",
            "CM069765.1\t10889\t11699\texon\t\"RB653_003326\";\t+\n",
            "CM069765.1\t11779\t12401\texon\t\"RB653_003326\";\t+\n"
          ]
        }
      ]
    },
    {
      "cell_type": "code",
      "source": [
        "!awk 'BEGIN{OFS=\"\\t\"} {if ($4 == \"gene\") {print $1, $2, $3, $4, $5, $6}}' annotation.bed > genes.bed"
      ],
      "metadata": {
        "id": "BIUSRO-u3RPA"
      },
      "execution_count": 35,
      "outputs": []
    },
    {
      "cell_type": "code",
      "source": [
        "!bedtools flank -i genes.bed -g scaffolds.sizes -l 1000 -r 0 -s > promoters.bed"
      ],
      "metadata": {
        "id": "x-U0ueMM3YRu"
      },
      "execution_count": 36,
      "outputs": []
    },
    {
      "cell_type": "code",
      "source": [
        "!head promoters.bed"
      ],
      "metadata": {
        "colab": {
          "base_uri": "https://localhost:8080/"
        },
        "id": "iCnjGp613tiP",
        "outputId": "452cc5ef-4f17-40c3-aded-5ad454f4ffb0"
      },
      "execution_count": 37,
      "outputs": [
        {
          "output_type": "stream",
          "name": "stdout",
          "text": [
            "CM069765.1\t2773\t3773\tgene\t\"RB653_010779\";\t+\n",
            "CM069765.1\t4009\t5009\tgene\t\"RB653_003324\";\t+\n",
            "CM069765.1\t7574\t8574\tgene\t\"RB653_003325\";\t+\n",
            "CM069765.1\t9788\t10788\tgene\t\"RB653_003326\";\t+\n",
            "CM069765.1\t18014\t19014\tgene\t\"RB653_003336\";\t-\n",
            "CM069765.1\t18644\t19644\tgene\t\"RB653_010780\";\t-\n",
            "CM069765.1\t19053\t20053\tgene\t\"RB653_003327\";\t+\n",
            "CM069765.1\t21801\t22801\tgene\t\"RB653_003337\";\t-\n",
            "CM069765.1\t21135\t22135\tgene\t\"RB653_003328\";\t+\n",
            "CM069765.1\t27853\t28853\tgene\t\"RB653_003338\";\t-\n"
          ]
        }
      ]
    },
    {
      "cell_type": "code",
      "source": [
        "!awk '$4==\"transcript\"' annotation.bed > transcripts.bed"
      ],
      "metadata": {
        "id": "8XMEps3J3wYX"
      },
      "execution_count": 38,
      "outputs": []
    },
    {
      "cell_type": "code",
      "source": [
        "!head transcripts.bed"
      ],
      "metadata": {
        "colab": {
          "base_uri": "https://localhost:8080/"
        },
        "id": "YKfn9oZW31Xl",
        "outputId": "383440cf-851f-4d74-b39d-661dc524b2f1"
      },
      "execution_count": 39,
      "outputs": [
        {
          "output_type": "stream",
          "name": "stdout",
          "text": [
            "CM069765.1\t3773\t3847\ttranscript\t\"RB653_010779\";\t+\n",
            "CM069765.1\t5009\t8310\ttranscript\t\"RB653_003324\";\t+\n",
            "CM069765.1\t8574\t10467\ttranscript\t\"RB653_003325\";\t+\n",
            "CM069765.1\t10788\t12401\ttranscript\t\"RB653_003326\";\t+\n",
            "CM069765.1\t13577\t18014\ttranscript\t\"RB653_003336\";\t-\n",
            "CM069765.1\t18570\t18644\ttranscript\t\"RB653_010780\";\t-\n",
            "CM069765.1\t20053\t20407\ttranscript\t\"RB653_003327\";\t+\n",
            "CM069765.1\t20486\t21801\ttranscript\t\"RB653_003337\";\t-\n",
            "CM069765.1\t22135\t27167\ttranscript\t\"RB653_003328\";\t+\n",
            "CM069765.1\t26685\t27853\ttranscript\t\"RB653_003338\";\t-\n"
          ]
        }
      ]
    },
    {
      "cell_type": "code",
      "source": [
        "!bedtools subtract -a transcripts.bed -b exons.bed > introns.bed"
      ],
      "metadata": {
        "id": "-4zKs5Cl341X"
      },
      "execution_count": 40,
      "outputs": []
    },
    {
      "cell_type": "code",
      "source": [
        "!head introns.bed"
      ],
      "metadata": {
        "colab": {
          "base_uri": "https://localhost:8080/"
        },
        "id": "hSI5etWj37bV",
        "outputId": "b1c0dce0-8bf2-4c59-c258-b717f1f2a607"
      },
      "execution_count": 41,
      "outputs": [
        {
          "output_type": "stream",
          "name": "stdout",
          "text": [
            "CM069765.1\t5093\t5191\ttranscript\t\"RB653_003324\";\t+\n",
            "CM069765.1\t5424\t5512\ttranscript\t\"RB653_003324\";\t+\n",
            "CM069765.1\t5796\t5871\ttranscript\t\"RB653_003324\";\t+\n",
            "CM069765.1\t6633\t6694\ttranscript\t\"RB653_003324\";\t+\n",
            "CM069765.1\t10823\t10889\ttranscript\t\"RB653_003326\";\t+\n",
            "CM069765.1\t11699\t11779\ttranscript\t\"RB653_003326\";\t+\n",
            "CM069765.1\t16942\t17034\ttranscript\t\"RB653_003336\";\t-\n",
            "CM069765.1\t17506\t17576\ttranscript\t\"RB653_003336\";\t-\n",
            "CM069765.1\t20712\t20784\ttranscript\t\"RB653_003337\";\t-\n",
            "CM069765.1\t21079\t21230\ttranscript\t\"RB653_003337\";\t-\n"
          ]
        }
      ]
    },
    {
      "cell_type": "code",
      "source": [
        "!bedtools complement -i genes.bed -g scaffolds.sizes > intergenic.bed"
      ],
      "metadata": {
        "id": "USAfd1VA4BXl"
      },
      "execution_count": 42,
      "outputs": []
    },
    {
      "cell_type": "code",
      "source": [
        "!head intergenic.bed"
      ],
      "metadata": {
        "colab": {
          "base_uri": "https://localhost:8080/"
        },
        "id": "IQuuPdgz4EKr",
        "outputId": "c6e38f7d-4870-41b4-e122-471780f222db"
      },
      "execution_count": 43,
      "outputs": [
        {
          "output_type": "stream",
          "name": "stdout",
          "text": [
            "CM069765.1\t0\t3773\n",
            "CM069765.1\t3847\t5009\n",
            "CM069765.1\t8310\t8574\n",
            "CM069765.1\t10467\t10788\n",
            "CM069765.1\t12401\t13577\n",
            "CM069765.1\t18014\t18570\n",
            "CM069765.1\t18644\t20053\n",
            "CM069765.1\t20407\t20486\n",
            "CM069765.1\t21801\t22135\n",
            "CM069765.1\t27853\t28147\n"
          ]
        }
      ]
    },
    {
      "cell_type": "code",
      "source": [
        "!bedtools flank -i genes.bed -g scaffolds.sizes -l 0 -r 200 -s  > downstream.bed"
      ],
      "metadata": {
        "id": "x5pYNcOk4PbC"
      },
      "execution_count": 44,
      "outputs": []
    },
    {
      "cell_type": "code",
      "source": [
        "!head downstream.bed"
      ],
      "metadata": {
        "colab": {
          "base_uri": "https://localhost:8080/"
        },
        "id": "uN7MqVMI4QHd",
        "outputId": "d2f9e37e-2b5b-4722-e14e-dd648f9656cb"
      },
      "execution_count": 45,
      "outputs": [
        {
          "output_type": "stream",
          "name": "stdout",
          "text": [
            "CM069765.1\t3847\t4047\tgene\t\"RB653_010779\";\t+\n",
            "CM069765.1\t8310\t8510\tgene\t\"RB653_003324\";\t+\n",
            "CM069765.1\t10467\t10667\tgene\t\"RB653_003325\";\t+\n",
            "CM069765.1\t12401\t12601\tgene\t\"RB653_003326\";\t+\n",
            "CM069765.1\t13377\t13577\tgene\t\"RB653_003336\";\t-\n",
            "CM069765.1\t18370\t18570\tgene\t\"RB653_010780\";\t-\n",
            "CM069765.1\t20407\t20607\tgene\t\"RB653_003327\";\t+\n",
            "CM069765.1\t20286\t20486\tgene\t\"RB653_003337\";\t-\n",
            "CM069765.1\t27167\t27367\tgene\t\"RB653_003328\";\t+\n",
            "CM069765.1\t26485\t26685\tgene\t\"RB653_003338\";\t-\n"
          ]
        }
      ]
    },
    {
      "cell_type": "markdown",
      "source": [
        "# Данные по zdnabert"
      ],
      "metadata": {
        "id": "QfLDMDLy4TOO"
      }
    },
    {
      "cell_type": "code",
      "source": [
        "!bedtools intersect -a ZDNABERT.bed -b exons.bed -wa > ZDNABERT_in_exons.bed"
      ],
      "metadata": {
        "id": "BueoPtd94ZGJ"
      },
      "execution_count": 46,
      "outputs": []
    },
    {
      "cell_type": "code",
      "source": [
        "!bedtools intersect -a ZDNABERT.bed -b introns.bed -wa > ZDNABERT_in_introns.bed"
      ],
      "metadata": {
        "id": "aruhycYo4koz"
      },
      "execution_count": 47,
      "outputs": []
    },
    {
      "cell_type": "code",
      "source": [
        "!bedtools intersect -a ZDNABERT.bed -b promoters.bed -wa > ZDNABERT_in_promoters.bed"
      ],
      "metadata": {
        "id": "K14Sio5d4nHw"
      },
      "execution_count": 48,
      "outputs": []
    },
    {
      "cell_type": "code",
      "source": [
        "!bedtools intersect -a ZDNABERT.bed -b intergenic.bed -wa > ZDNABERT_in_intergenic.bed"
      ],
      "metadata": {
        "id": "TRHxXJjP4svm"
      },
      "execution_count": 49,
      "outputs": []
    },
    {
      "cell_type": "code",
      "source": [
        "!bedtools intersect -a ZDNABERT.bed -b downstream.bed -wa > ZDNABERT_in_downstream.bed"
      ],
      "metadata": {
        "id": "m9tr3HJ04vBO"
      },
      "execution_count": 50,
      "outputs": []
    },
    {
      "cell_type": "code",
      "source": [
        "!cat ZDNABERT.bed | wc -l"
      ],
      "metadata": {
        "colab": {
          "base_uri": "https://localhost:8080/"
        },
        "id": "jQqZEqD7_2pA",
        "outputId": "5fca49be-082a-41ec-f184-c8985b9753ee"
      },
      "execution_count": 51,
      "outputs": [
        {
          "output_type": "stream",
          "name": "stdout",
          "text": [
            "7\n"
          ]
        }
      ]
    },
    {
      "cell_type": "code",
      "source": [
        "!cat ZDNABERT_in_exons.bed | wc -l"
      ],
      "metadata": {
        "colab": {
          "base_uri": "https://localhost:8080/"
        },
        "id": "CQKYPAJO47J6",
        "outputId": "ffc27111-2a92-4ec3-b8d6-1072a2cdb68e"
      },
      "execution_count": 52,
      "outputs": [
        {
          "output_type": "stream",
          "name": "stdout",
          "text": [
            "3\n"
          ]
        }
      ]
    },
    {
      "cell_type": "code",
      "source": [
        "!cat ZDNABERT_in_introns.bed | wc -l"
      ],
      "metadata": {
        "colab": {
          "base_uri": "https://localhost:8080/"
        },
        "id": "e09DwQy_4_CI",
        "outputId": "197d5f9b-2325-4fa1-c84e-cdab1d2ccd80"
      },
      "execution_count": 53,
      "outputs": [
        {
          "output_type": "stream",
          "name": "stdout",
          "text": [
            "0\n"
          ]
        }
      ]
    },
    {
      "cell_type": "code",
      "source": [
        "!cat ZDNABERT_in_promoters.bed | wc -l"
      ],
      "metadata": {
        "colab": {
          "base_uri": "https://localhost:8080/"
        },
        "id": "vcUT6dqZ5AZz",
        "outputId": "6d3769a6-b736-4839-f83b-cba84d5bb312"
      },
      "execution_count": 54,
      "outputs": [
        {
          "output_type": "stream",
          "name": "stdout",
          "text": [
            "2\n"
          ]
        }
      ]
    },
    {
      "cell_type": "code",
      "source": [
        "!cat ZDNABERT_in_intergenic.bed | wc -l"
      ],
      "metadata": {
        "colab": {
          "base_uri": "https://localhost:8080/"
        },
        "id": "1dJWgk9z5Bhi",
        "outputId": "1e830970-5aaf-4f3e-c0c1-11f23dbb2a76"
      },
      "execution_count": 55,
      "outputs": [
        {
          "output_type": "stream",
          "name": "stdout",
          "text": [
            "4\n"
          ]
        }
      ]
    },
    {
      "cell_type": "code",
      "source": [
        "!cat ZDNABERT_in_downstream.bed | wc -l"
      ],
      "metadata": {
        "colab": {
          "base_uri": "https://localhost:8080/"
        },
        "id": "luCseHQh5CKu",
        "outputId": "ef988cdf-a7b4-45d1-b143-c5a0cb4a1520"
      },
      "execution_count": 56,
      "outputs": [
        {
          "output_type": "stream",
          "name": "stdout",
          "text": [
            "1\n"
          ]
        }
      ]
    }
  ],
  "metadata": {
    "accelerator": "GPU",
    "colab": {
      "provenance": []
    },
    "kernelspec": {
      "display_name": "Python 3 (ipykernel)",
      "language": "python",
      "name": "python3"
    },
    "language_info": {
      "codemirror_mode": {
        "name": "ipython",
        "version": 3
      },
      "file_extension": ".py",
      "mimetype": "text/x-python",
      "name": "python",
      "nbconvert_exporter": "python",
      "pygments_lexer": "ipython3",
      "version": "3.9.13"
    }
  },
  "nbformat": 4,
  "nbformat_minor": 0
}